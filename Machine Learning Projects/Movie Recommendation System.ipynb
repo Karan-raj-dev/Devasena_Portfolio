{
  "metadata": {
    "language_info": {
      "codemirror_mode": {
        "name": "python",
        "version": 3
      },
      "file_extension": ".py",
      "mimetype": "text/x-python",
      "name": "python",
      "nbconvert_exporter": "python",
      "pygments_lexer": "ipython3",
      "version": "3.8"
    },
    "kernelspec": {
      "name": "python",
      "display_name": "Python (Pyodide)",
      "language": "python"
    }
  },
  "nbformat_minor": 4,
  "nbformat": 4,
  "cells": [
    {
      "cell_type": "markdown",
      "source": "# Movie Recommendation System with Python\nIn this project, we'll develop a basic recommender system with Python and pandas.\n\nMovies will be suggested by similarity to other movies; this is not a robust recommendation system, but something to start out on.",
      "metadata": {}
    },
    {
      "cell_type": "code",
      "source": "import numpy as np\nimport pandas as pd",
      "metadata": {
        "trusted": true
      },
      "execution_count": 1,
      "outputs": []
    },
    {
      "cell_type": "markdown",
      "source": "## Data\nWe have two datasets:\n\n+ A dataset of movie ratings.\n+ A dataset of all movies titles and their ids.",
      "metadata": {}
    },
    {
      "cell_type": "code",
      "source": "#Reading the ratings dataset.\ncolumn_names = ['user_id', 'item_id', 'rating', 'timestamp']\ndf = pd.read_csv('../data/data.data', sep='\\t', names=column_names)",
      "metadata": {
        "trusted": true
      },
      "execution_count": 3,
      "outputs": []
    },
    {
      "cell_type": "code",
      "source": "df.head()",
      "metadata": {
        "trusted": true
      },
      "execution_count": 4,
      "outputs": [
        {
          "execution_count": 4,
          "output_type": "execute_result",
          "data": {
            "text/plain": "   user_id  item_id  rating    timestamp\n0  9438161      NaN     NaN          NaN\n1      332    222.0     4.0  887916529.0\n2      551    735.0     5.0  892783110.0\n3       13    160.0     4.0  882140070.0\n4      532    946.0     5.0  888635366.0",
            "text/html": "<div>\n<style scoped>\n    .dataframe tbody tr th:only-of-type {\n        vertical-align: middle;\n    }\n\n    .dataframe tbody tr th {\n        vertical-align: top;\n    }\n\n    .dataframe thead th {\n        text-align: right;\n    }\n</style>\n<table border=\"1\" class=\"dataframe\">\n  <thead>\n    <tr style=\"text-align: right;\">\n      <th></th>\n      <th>user_id</th>\n      <th>item_id</th>\n      <th>rating</th>\n      <th>timestamp</th>\n    </tr>\n  </thead>\n  <tbody>\n    <tr>\n      <th>0</th>\n      <td>9438161</td>\n      <td>NaN</td>\n      <td>NaN</td>\n      <td>NaN</td>\n    </tr>\n    <tr>\n      <th>1</th>\n      <td>332</td>\n      <td>222.0</td>\n      <td>4.0</td>\n      <td>887916529.0</td>\n    </tr>\n    <tr>\n      <th>2</th>\n      <td>551</td>\n      <td>735.0</td>\n      <td>5.0</td>\n      <td>892783110.0</td>\n    </tr>\n    <tr>\n      <th>3</th>\n      <td>13</td>\n      <td>160.0</td>\n      <td>4.0</td>\n      <td>882140070.0</td>\n    </tr>\n    <tr>\n      <th>4</th>\n      <td>532</td>\n      <td>946.0</td>\n      <td>5.0</td>\n      <td>888635366.0</td>\n    </tr>\n  </tbody>\n</table>\n</div>"
          },
          "metadata": {}
        }
      ]
    },
    {
      "cell_type": "markdown",
      "source": "Reading the movie titles",
      "metadata": {}
    },
    {
      "cell_type": "code",
      "source": "movie_titles = pd.read_csv(\"../data/Movie_Id_Titles.csv\")\nmovie_titles.head()",
      "metadata": {
        "trusted": true
      },
      "execution_count": 5,
      "outputs": [
        {
          "execution_count": 5,
          "output_type": "execute_result",
          "data": {
            "text/plain": "   item_id              title\n0        1   Toy Story (1995)\n1        2   GoldenEye (1995)\n2        3  Four Rooms (1995)\n3        4  Get Shorty (1995)\n4        5     Copycat (1995)",
            "text/html": "<div>\n<style scoped>\n    .dataframe tbody tr th:only-of-type {\n        vertical-align: middle;\n    }\n\n    .dataframe tbody tr th {\n        vertical-align: top;\n    }\n\n    .dataframe thead th {\n        text-align: right;\n    }\n</style>\n<table border=\"1\" class=\"dataframe\">\n  <thead>\n    <tr style=\"text-align: right;\">\n      <th></th>\n      <th>item_id</th>\n      <th>title</th>\n    </tr>\n  </thead>\n  <tbody>\n    <tr>\n      <th>0</th>\n      <td>1</td>\n      <td>Toy Story (1995)</td>\n    </tr>\n    <tr>\n      <th>1</th>\n      <td>2</td>\n      <td>GoldenEye (1995)</td>\n    </tr>\n    <tr>\n      <th>2</th>\n      <td>3</td>\n      <td>Four Rooms (1995)</td>\n    </tr>\n    <tr>\n      <th>3</th>\n      <td>4</td>\n      <td>Get Shorty (1995)</td>\n    </tr>\n    <tr>\n      <th>4</th>\n      <td>5</td>\n      <td>Copycat (1995)</td>\n    </tr>\n  </tbody>\n</table>\n</div>"
          },
          "metadata": {}
        }
      ]
    },
    {
      "cell_type": "markdown",
      "source": "We can merge them together:",
      "metadata": {}
    },
    {
      "cell_type": "code",
      "source": "df = pd.merge(df,movie_titles,on='item_id')\ndf.head()",
      "metadata": {},
      "execution_count": null,
      "outputs": []
    },
    {
      "cell_type": "markdown",
      "source": "## Exploratory Analysis\nLet's explore the data a bit and get a look at some of the best rated movies.",
      "metadata": {}
    },
    {
      "cell_type": "code",
      "source": "import matplotlib.pyplot as plt\nimport seaborn as sns\nsns.set_style('white')\n%matplotlib inline",
      "metadata": {},
      "execution_count": null,
      "outputs": []
    },
    {
      "cell_type": "markdown",
      "source": "Let's create a ratings dataframe with average rating and number of ratings:",
      "metadata": {}
    },
    {
      "cell_type": "code",
      "source": "df.groupby('title')['rating'].mean().sort_values(ascending=False).head()",
      "metadata": {},
      "execution_count": null,
      "outputs": []
    },
    {
      "cell_type": "code",
      "source": "df.groupby('title')['rating'].count().sort_values(ascending=False).head()",
      "metadata": {},
      "execution_count": null,
      "outputs": []
    },
    {
      "cell_type": "code",
      "source": "ratings = pd.DataFrame(df.groupby('title')['rating'].mean())\nratings.head()",
      "metadata": {},
      "execution_count": null,
      "outputs": []
    },
    {
      "cell_type": "markdown",
      "source": "Setting the number of ratings column:",
      "metadata": {}
    },
    {
      "cell_type": "code",
      "source": "ratings['num of ratings'] = pd.DataFrame(df.groupby('title')['rating'].count())\nratings.head()",
      "metadata": {
        "trusted": true
      },
      "execution_count": 2,
      "outputs": [
        {
          "ename": "<class 'NameError'>",
          "evalue": "name 'df' is not defined",
          "traceback": [
            "\u001b[0;31m---------------------------------------------------------------------------\u001b[0m",
            "\u001b[0;31mNameError\u001b[0m                                 Traceback (most recent call last)",
            "Input \u001b[0;32mIn [2]\u001b[0m, in \u001b[0;36m<cell line: 1>\u001b[0;34m()\u001b[0m\n\u001b[0;32m----> 1\u001b[0m ratings[\u001b[38;5;124m'\u001b[39m\u001b[38;5;124mnum of ratings\u001b[39m\u001b[38;5;124m'\u001b[39m] \u001b[38;5;241m=\u001b[39m pd\u001b[38;5;241m.\u001b[39mDataFrame(\u001b[43mdf\u001b[49m\u001b[38;5;241m.\u001b[39mgroupby(\u001b[38;5;124m'\u001b[39m\u001b[38;5;124mtitle\u001b[39m\u001b[38;5;124m'\u001b[39m)[\u001b[38;5;124m'\u001b[39m\u001b[38;5;124mrating\u001b[39m\u001b[38;5;124m'\u001b[39m]\u001b[38;5;241m.\u001b[39mcount())\n\u001b[1;32m      2\u001b[0m ratings\u001b[38;5;241m.\u001b[39mhead()\n",
            "\u001b[0;31mNameError\u001b[0m: name 'df' is not defined"
          ],
          "output_type": "error"
        }
      ]
    },
    {
      "cell_type": "markdown",
      "source": "Visualizing the number of ratings:",
      "metadata": {}
    },
    {
      "cell_type": "code",
      "source": "plt.figure(figsize=(10,4))\nratings['num of ratings'].hist(bins=40)",
      "metadata": {},
      "execution_count": null,
      "outputs": []
    },
    {
      "cell_type": "code",
      "source": "plt.figure(figsize=(10,4))\nratings['rating'].hist(bins=40)",
      "metadata": {},
      "execution_count": null,
      "outputs": []
    },
    {
      "cell_type": "markdown",
      "source": "It makes intuitive sense for most ratings to be around the 3.0 mark.",
      "metadata": {}
    },
    {
      "cell_type": "markdown",
      "source": "## Recommending Similar Movies\nThe next step is to create a martix that has the user ids on one axis and the movie titles on another. Each cell will then consist of the rating of a movie by a particular user",
      "metadata": {}
    },
    {
      "cell_type": "code",
      "source": "moviemat = df.pivot_table(index='user_id',columns='title',values='rating')\nmoviemat.head()",
      "metadata": {},
      "execution_count": null,
      "outputs": []
    },
    {
      "cell_type": "markdown",
      "source": "It's normal for there to be lots of NaN values, as not everyone would have seen most movies.\n\nChecking out the Most rated movie:",
      "metadata": {}
    },
    {
      "cell_type": "code",
      "source": "ratings.sort_values('num of ratings',ascending=False).head(10)",
      "metadata": {},
      "execution_count": null,
      "outputs": []
    },
    {
      "cell_type": "markdown",
      "source": "Let's choose two movies to focus on: starwars, a sci-fi movie. And Dumb and Dumber, a comedy.",
      "metadata": {}
    },
    {
      "cell_type": "code",
      "source": "ratings.head()",
      "metadata": {},
      "execution_count": null,
      "outputs": []
    },
    {
      "cell_type": "markdown",
      "source": "Now let's grab the user ratings for those two movies:",
      "metadata": {}
    },
    {
      "cell_type": "code",
      "source": "starwars_user_ratings = moviemat['Star Wars (1977)']\ndumb_user_ratings = moviemat['Liar Liar (1997)']\nstarwars_user_ratings.head()",
      "metadata": {},
      "execution_count": null,
      "outputs": []
    },
    {
      "cell_type": "markdown",
      "source": "We can then use corrwith() method to get correlations between two pandas series:",
      "metadata": {}
    },
    {
      "cell_type": "code",
      "source": "similar_to_starwars = moviemat.corrwith(starwars_user_ratings)\nsimilar_to_liarliar = moviemat.corrwith(dumb_user_ratings)",
      "metadata": {},
      "execution_count": null,
      "outputs": []
    },
    {
      "cell_type": "markdown",
      "source": "Let's clean the data by removing NaN values and using a DataFrame instead of a series:",
      "metadata": {}
    },
    {
      "cell_type": "code",
      "source": "corr_starwars = pd.DataFrame(similar_to_starwars,columns=['Correlation'])\ncorr_starwars.dropna(inplace=True)\ncorr_starwars.head()",
      "metadata": {},
      "execution_count": null,
      "outputs": []
    },
    {
      "cell_type": "markdown",
      "source": "If we sort the dataframe by correlation, we should get the most similar movies, however there will be some results that don't really make sense.\n\nThis is because there are a lot of movies only watched once by users who also watched star wars (it was the most popular movie).",
      "metadata": {}
    },
    {
      "cell_type": "code",
      "source": "corr_starwars.sort_values('Correlation',ascending=False).head(10)",
      "metadata": {},
      "execution_count": null,
      "outputs": []
    },
    {
      "cell_type": "markdown",
      "source": "Let's fix this by filtering out movies that have less than 100 reviews (this value was chosen based off the histogram from earlier).",
      "metadata": {}
    },
    {
      "cell_type": "code",
      "source": "corr_starwars = corr_starwars.join(ratings['num of ratings'])\ncorr_starwars.head()",
      "metadata": {},
      "execution_count": null,
      "outputs": []
    },
    {
      "cell_type": "markdown",
      "source": "Now sort the values and notice how the titles make a lot more sense:",
      "metadata": {}
    },
    {
      "cell_type": "code",
      "source": "corr_starwars[corr_starwars['num of ratings']>100].sort_values('Correlation',ascending=False).head()",
      "metadata": {},
      "execution_count": null,
      "outputs": []
    },
    {
      "cell_type": "markdown",
      "source": "Now the same for Liar Liar:",
      "metadata": {}
    },
    {
      "cell_type": "code",
      "source": "corr_liarliar = pd.DataFrame(similar_to_liarliar,columns=['Correlation'])\ncorr_liarliar.dropna(inplace=True)\ncorr_liarliar = corr_liarliar.join(ratings['num of ratings'])\ncorr_liarliar[corr_liarliar['num of ratings']>100].sort_values('Correlation',ascending=False).head()",
      "metadata": {},
      "execution_count": null,
      "outputs": []
    },
    {
      "cell_type": "markdown",
      "source": "And we're done!\n\nIt looks like our results make sense. Even though the system is far from state of the art, it still recommended the other Star Wars movies (and another George Lucas film) for Star Wars; while it looks like there's some scope for more improvement in Liar Liar (although we do get another Jim Carrey movie as a recommendation too).",
      "metadata": {}
    }
  ]
}