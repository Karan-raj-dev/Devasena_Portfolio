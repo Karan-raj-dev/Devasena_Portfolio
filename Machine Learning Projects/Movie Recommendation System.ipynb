{
  "metadata": {
    "language_info": {
      "codemirror_mode": {
        "name": "python",
        "version": 3
      },
      "file_extension": ".py",
      "mimetype": "text/x-python",
      "name": "python",
      "nbconvert_exporter": "python",
      "pygments_lexer": "ipython3",
      "version": "3.8"
    },
    "kernelspec": {
      "name": "python",
      "display_name": "Python (Pyodide)",
      "language": "python"
    }
  },
  "nbformat_minor": 4,
  "nbformat": 4,
  "cells": [
    {
      "cell_type": "markdown",
      "source": "# Movie Recommendation System with Python\nIn this project, we'll develop a basic recommender system with Python and pandas.\n\nMovies will be suggested by similarity to other movies; this is not a robust recommendation system, but something to start out on.",
      "metadata": {}
    },
    {
      "cell_type": "code",
      "source": "#This is to install required modules\nimport piplite\nawait piplite.install('seaborn')\nawait piplite.install('scipy')",
      "metadata": {
        "trusted": true
      },
      "execution_count": 1,
      "outputs": []
    },
    {
      "cell_type": "code",
      "source": "import numpy as np\nimport pandas as pd",
      "metadata": {
        "trusted": true
      },
      "execution_count": 2,
      "outputs": []
    },
    {
      "cell_type": "markdown",
      "source": "## Data\nWe have two datasets:\n\n+ A dataset of movie ratings.\n+ A dataset of all movies titles and their ids.",
      "metadata": {}
    },
    {
      "cell_type": "code",
      "source": "#Reading the ratings dataset.\ncolumn_names = ['user_id', 'item_id', 'rating', 'timestamp']\ndf = pd.read_csv('../data/data.data', sep='\\t', names=column_names)",
      "metadata": {
        "trusted": true
      },
      "execution_count": 3,
      "outputs": []
    },
    {
      "cell_type": "code",
      "source": "df.head()",
      "metadata": {
        "trusted": true
      },
      "execution_count": 4,
      "outputs": [
        {
          "execution_count": 4,
          "output_type": "execute_result",
          "data": {
            "text/plain": "   user_id  item_id  rating    timestamp\n0  9438161      NaN     NaN          NaN\n1      332    222.0     4.0  887916529.0\n2      551    735.0     5.0  892783110.0\n3       13    160.0     4.0  882140070.0\n4      532    946.0     5.0  888635366.0",
            "text/html": "<div>\n<style scoped>\n    .dataframe tbody tr th:only-of-type {\n        vertical-align: middle;\n    }\n\n    .dataframe tbody tr th {\n        vertical-align: top;\n    }\n\n    .dataframe thead th {\n        text-align: right;\n    }\n</style>\n<table border=\"1\" class=\"dataframe\">\n  <thead>\n    <tr style=\"text-align: right;\">\n      <th></th>\n      <th>user_id</th>\n      <th>item_id</th>\n      <th>rating</th>\n      <th>timestamp</th>\n    </tr>\n  </thead>\n  <tbody>\n    <tr>\n      <th>0</th>\n      <td>9438161</td>\n      <td>NaN</td>\n      <td>NaN</td>\n      <td>NaN</td>\n    </tr>\n    <tr>\n      <th>1</th>\n      <td>332</td>\n      <td>222.0</td>\n      <td>4.0</td>\n      <td>887916529.0</td>\n    </tr>\n    <tr>\n      <th>2</th>\n      <td>551</td>\n      <td>735.0</td>\n      <td>5.0</td>\n      <td>892783110.0</td>\n    </tr>\n    <tr>\n      <th>3</th>\n      <td>13</td>\n      <td>160.0</td>\n      <td>4.0</td>\n      <td>882140070.0</td>\n    </tr>\n    <tr>\n      <th>4</th>\n      <td>532</td>\n      <td>946.0</td>\n      <td>5.0</td>\n      <td>888635366.0</td>\n    </tr>\n  </tbody>\n</table>\n</div>"
          },
          "metadata": {}
        }
      ]
    },
    {
      "cell_type": "markdown",
      "source": "Reading the movie titles",
      "metadata": {}
    },
    {
      "cell_type": "code",
      "source": "movie_titles = pd.read_csv(\"../data/Movie_Id_Titles.csv\")\nmovie_titles.head()",
      "metadata": {
        "trusted": true
      },
      "execution_count": 5,
      "outputs": [
        {
          "execution_count": 5,
          "output_type": "execute_result",
          "data": {
            "text/plain": "   item_id              title\n0        1   Toy Story (1995)\n1        2   GoldenEye (1995)\n2        3  Four Rooms (1995)\n3        4  Get Shorty (1995)\n4        5     Copycat (1995)",
            "text/html": "<div>\n<style scoped>\n    .dataframe tbody tr th:only-of-type {\n        vertical-align: middle;\n    }\n\n    .dataframe tbody tr th {\n        vertical-align: top;\n    }\n\n    .dataframe thead th {\n        text-align: right;\n    }\n</style>\n<table border=\"1\" class=\"dataframe\">\n  <thead>\n    <tr style=\"text-align: right;\">\n      <th></th>\n      <th>item_id</th>\n      <th>title</th>\n    </tr>\n  </thead>\n  <tbody>\n    <tr>\n      <th>0</th>\n      <td>1</td>\n      <td>Toy Story (1995)</td>\n    </tr>\n    <tr>\n      <th>1</th>\n      <td>2</td>\n      <td>GoldenEye (1995)</td>\n    </tr>\n    <tr>\n      <th>2</th>\n      <td>3</td>\n      <td>Four Rooms (1995)</td>\n    </tr>\n    <tr>\n      <th>3</th>\n      <td>4</td>\n      <td>Get Shorty (1995)</td>\n    </tr>\n    <tr>\n      <th>4</th>\n      <td>5</td>\n      <td>Copycat (1995)</td>\n    </tr>\n  </tbody>\n</table>\n</div>"
          },
          "metadata": {}
        }
      ]
    },
    {
      "cell_type": "markdown",
      "source": "We can merge them together:",
      "metadata": {}
    },
    {
      "cell_type": "code",
      "source": "df = pd.merge(df,movie_titles,on='item_id')\ndf.head()",
      "metadata": {
        "trusted": true
      },
      "execution_count": 6,
      "outputs": [
        {
          "execution_count": 6,
          "output_type": "execute_result",
          "data": {
            "text/plain": "   user_id  item_id  rating    timestamp                            title\n0      332    222.0     4.0  887916529.0  Star Trek: First Contact (1996)\n1      717    222.0     4.0  884642215.0  Star Trek: First Contact (1996)\n2      664    222.0     3.0  876524641.0  Star Trek: First Contact (1996)\n3      749    222.0     3.0  878847716.0  Star Trek: First Contact (1996)\n4      323    222.0     3.0  878739251.0  Star Trek: First Contact (1996)",
            "text/html": "<div>\n<style scoped>\n    .dataframe tbody tr th:only-of-type {\n        vertical-align: middle;\n    }\n\n    .dataframe tbody tr th {\n        vertical-align: top;\n    }\n\n    .dataframe thead th {\n        text-align: right;\n    }\n</style>\n<table border=\"1\" class=\"dataframe\">\n  <thead>\n    <tr style=\"text-align: right;\">\n      <th></th>\n      <th>user_id</th>\n      <th>item_id</th>\n      <th>rating</th>\n      <th>timestamp</th>\n      <th>title</th>\n    </tr>\n  </thead>\n  <tbody>\n    <tr>\n      <th>0</th>\n      <td>332</td>\n      <td>222.0</td>\n      <td>4.0</td>\n      <td>887916529.0</td>\n      <td>Star Trek: First Contact (1996)</td>\n    </tr>\n    <tr>\n      <th>1</th>\n      <td>717</td>\n      <td>222.0</td>\n      <td>4.0</td>\n      <td>884642215.0</td>\n      <td>Star Trek: First Contact (1996)</td>\n    </tr>\n    <tr>\n      <th>2</th>\n      <td>664</td>\n      <td>222.0</td>\n      <td>3.0</td>\n      <td>876524641.0</td>\n      <td>Star Trek: First Contact (1996)</td>\n    </tr>\n    <tr>\n      <th>3</th>\n      <td>749</td>\n      <td>222.0</td>\n      <td>3.0</td>\n      <td>878847716.0</td>\n      <td>Star Trek: First Contact (1996)</td>\n    </tr>\n    <tr>\n      <th>4</th>\n      <td>323</td>\n      <td>222.0</td>\n      <td>3.0</td>\n      <td>878739251.0</td>\n      <td>Star Trek: First Contact (1996)</td>\n    </tr>\n  </tbody>\n</table>\n</div>"
          },
          "metadata": {}
        }
      ]
    },
    {
      "cell_type": "markdown",
      "source": "## Exploratory Analysis\nLet's explore the data a bit and get a look at some of the best rated movies.",
      "metadata": {}
    },
    {
      "cell_type": "code",
      "source": "import matplotlib.pyplot as plt\nimport seaborn as sns\nsns.set_style('white')\n%matplotlib inline",
      "metadata": {
        "trusted": true
      },
      "execution_count": 7,
      "outputs": []
    },
    {
      "cell_type": "markdown",
      "source": "Let's create a ratings dataframe with average rating and number of ratings:",
      "metadata": {}
    },
    {
      "cell_type": "code",
      "source": "df.groupby('title')['rating'].mean().sort_values(ascending=False).head()",
      "metadata": {
        "trusted": true
      },
      "execution_count": 8,
      "outputs": [
        {
          "execution_count": 8,
          "output_type": "execute_result",
          "data": {
            "text/plain": "title\nFresh (1994)                             5.0\nCrossfire (1947)                         5.0\nLittle City (1998)                       5.0\nVisitors, The (Visiteurs, Les) (1993)    5.0\nThey Made Me a Criminal (1939)           5.0\nName: rating, dtype: float64"
          },
          "metadata": {}
        }
      ]
    },
    {
      "cell_type": "code",
      "source": "df.groupby('title')['rating'].count().sort_values(ascending=False).head()",
      "metadata": {
        "trusted": true
      },
      "execution_count": 9,
      "outputs": [
        {
          "execution_count": 9,
          "output_type": "execute_result",
          "data": {
            "text/plain": "title\nStar Wars (1977)               299\nLiar Liar (1997)               260\nReturn of the Jedi (1983)      259\nEnglish Patient, The (1996)    255\nFargo (1996)                   255\nName: rating, dtype: int64"
          },
          "metadata": {}
        }
      ]
    },
    {
      "cell_type": "code",
      "source": "ratings = pd.DataFrame(df.groupby('title')['rating'].mean())\nratings.head()",
      "metadata": {
        "trusted": true
      },
      "execution_count": 10,
      "outputs": [
        {
          "execution_count": 10,
          "output_type": "execute_result",
          "data": {
            "text/plain": "                             rating\ntitle                              \n'Til There Was You (1997)  2.333333\n1-900 (1994)               2.666667\n101 Dalmatians (1996)      2.877193\n12 Angry Men (1957)        4.360656\n187 (1997)                 3.130435",
            "text/html": "<div>\n<style scoped>\n    .dataframe tbody tr th:only-of-type {\n        vertical-align: middle;\n    }\n\n    .dataframe tbody tr th {\n        vertical-align: top;\n    }\n\n    .dataframe thead th {\n        text-align: right;\n    }\n</style>\n<table border=\"1\" class=\"dataframe\">\n  <thead>\n    <tr style=\"text-align: right;\">\n      <th></th>\n      <th>rating</th>\n    </tr>\n    <tr>\n      <th>title</th>\n      <th></th>\n    </tr>\n  </thead>\n  <tbody>\n    <tr>\n      <th>'Til There Was You (1997)</th>\n      <td>2.333333</td>\n    </tr>\n    <tr>\n      <th>1-900 (1994)</th>\n      <td>2.666667</td>\n    </tr>\n    <tr>\n      <th>101 Dalmatians (1996)</th>\n      <td>2.877193</td>\n    </tr>\n    <tr>\n      <th>12 Angry Men (1957)</th>\n      <td>4.360656</td>\n    </tr>\n    <tr>\n      <th>187 (1997)</th>\n      <td>3.130435</td>\n    </tr>\n  </tbody>\n</table>\n</div>"
          },
          "metadata": {}
        }
      ]
    },
    {
      "cell_type": "markdown",
      "source": "Setting the number of ratings column:",
      "metadata": {}
    },
    {
      "cell_type": "code",
      "source": "ratings['num of ratings'] = pd.DataFrame(df.groupby('title')['rating'].count())\nratings.head()",
      "metadata": {
        "trusted": true
      },
      "execution_count": 11,
      "outputs": [
        {
          "execution_count": 11,
          "output_type": "execute_result",
          "data": {
            "text/plain": "                             rating  num of ratings\ntitle                                              \n'Til There Was You (1997)  2.333333               3\n1-900 (1994)               2.666667               3\n101 Dalmatians (1996)      2.877193              57\n12 Angry Men (1957)        4.360656              61\n187 (1997)                 3.130435              23",
            "text/html": "<div>\n<style scoped>\n    .dataframe tbody tr th:only-of-type {\n        vertical-align: middle;\n    }\n\n    .dataframe tbody tr th {\n        vertical-align: top;\n    }\n\n    .dataframe thead th {\n        text-align: right;\n    }\n</style>\n<table border=\"1\" class=\"dataframe\">\n  <thead>\n    <tr style=\"text-align: right;\">\n      <th></th>\n      <th>rating</th>\n      <th>num of ratings</th>\n    </tr>\n    <tr>\n      <th>title</th>\n      <th></th>\n      <th></th>\n    </tr>\n  </thead>\n  <tbody>\n    <tr>\n      <th>'Til There Was You (1997)</th>\n      <td>2.333333</td>\n      <td>3</td>\n    </tr>\n    <tr>\n      <th>1-900 (1994)</th>\n      <td>2.666667</td>\n      <td>3</td>\n    </tr>\n    <tr>\n      <th>101 Dalmatians (1996)</th>\n      <td>2.877193</td>\n      <td>57</td>\n    </tr>\n    <tr>\n      <th>12 Angry Men (1957)</th>\n      <td>4.360656</td>\n      <td>61</td>\n    </tr>\n    <tr>\n      <th>187 (1997)</th>\n      <td>3.130435</td>\n      <td>23</td>\n    </tr>\n  </tbody>\n</table>\n</div>"
          },
          "metadata": {}
        }
      ]
    },
    {
      "cell_type": "markdown",
      "source": "Visualizing the number of ratings:",
      "metadata": {}
    },
    {
      "cell_type": "code",
      "source": "plt.figure(figsize=(10,4))\nratings['num of ratings'].hist(bins=40)",
      "metadata": {
        "trusted": true
      },
      "execution_count": 12,
      "outputs": [
        {
          "execution_count": 12,
          "output_type": "execute_result",
          "data": {
            "text/plain": "<AxesSubplot:>"
          },
          "metadata": {}
        },
        {
          "output_type": "display_data",
          "data": {
            "text/plain": "<Figure size 720x288 with 1 Axes>",
            "image/png": "[encoded data removed]"
          },
          "metadata": {
            "needs_background": "light"
          }
        }
      ]
    },
    {
      "cell_type": "code",
      "source": "plt.figure(figsize=(10,4))\nratings['rating'].hist(bins=40)",
      "metadata": {
        "trusted": true
      },
      "execution_count": 13,
      "outputs": [
        {
          "execution_count": 13,
          "output_type": "execute_result",
          "data": {
            "text/plain": "<AxesSubplot:>"
          },
          "metadata": {}
        },
        {
          "output_type": "display_data",
          "data": {
            "text/plain": "<Figure size 720x288 with 1 Axes>",
            "image/png": "[encoded data removed]"
          },
          "metadata": {
            "needs_background": "light"
          }
        }
      ]
    },
    {
      "cell_type": "markdown",
      "source": "It makes intuitive sense for most ratings to be around the 3.0 mark.",
      "metadata": {}
    },
    {
      "cell_type": "markdown",
      "source": "## Recommending Similar Movies\nThe next step is to create a martix that has the user ids on one axis and the movie titles on another. Each cell will then consist of the rating of a movie by a particular user",
      "metadata": {}
    },
    {
      "cell_type": "code",
      "source": "moviemat = df.pivot_table(index='user_id',columns='title',values='rating')\nmoviemat.head()",
      "metadata": {
        "trusted": true
      },
      "execution_count": 14,
      "outputs": [
        {
          "execution_count": 14,
          "output_type": "execute_result",
          "data": {
            "text/plain": "title    'Til There Was You (1997)  1-900 (1994)  101 Dalmatians (1996)  \\\nuser_id                                                                   \n1                              NaN           NaN                    NaN   \n2                              NaN           NaN                    NaN   \n3                              NaN           NaN                    NaN   \n4                              NaN           NaN                    NaN   \n5                              NaN           NaN                    NaN   \n\ntitle    12 Angry Men (1957)  187 (1997)  2 Days in the Valley (1996)  \\\nuser_id                                                                 \n1                        NaN         NaN                          NaN   \n2                        NaN         NaN                          NaN   \n3                        NaN         NaN                          NaN   \n4                        NaN         NaN                          NaN   \n5                        NaN         NaN                          NaN   \n\ntitle    20,000 Leagues Under the Sea (1954)  2001: A Space Odyssey (1968)  \\\nuser_id                                                                      \n1                                        NaN                           NaN   \n2                                        NaN                           NaN   \n3                                        NaN                           NaN   \n4                                        NaN                           NaN   \n5                                        NaN                           NaN   \n\ntitle    3 Ninjas: High Noon At Mega Mountain (1998)  39 Steps, The (1935)  \\\nuser_id                                                                      \n1                                                NaN                   NaN   \n2                                                NaN                   NaN   \n3                                                NaN                   NaN   \n4                                                NaN                   NaN   \n5                                                NaN                   NaN   \n\ntitle    ...  Wyatt Earp (1994)  Year of the Horse (1997)  \\\nuser_id  ...                                                \n1        ...                NaN                       NaN   \n2        ...                NaN                       NaN   \n3        ...                NaN                       NaN   \n4        ...                NaN                       NaN   \n5        ...                NaN                       NaN   \n\ntitle    You So Crazy (1994)  Young Frankenstein (1974)  Young Guns (1988)  \\\nuser_id                                                                      \n1                        NaN                        NaN                NaN   \n2                        NaN                        NaN                NaN   \n3                        NaN                        NaN                NaN   \n4                        NaN                        NaN                NaN   \n5                        NaN                        NaN                NaN   \n\ntitle    Young Guns II (1990)  Young Poisoner's Handbook, The (1995)  \\\nuser_id                                                                \n1                         NaN                                    NaN   \n2                         NaN                                    NaN   \n3                         NaN                                    NaN   \n4                         NaN                                    NaN   \n5                         NaN                                    NaN   \n\ntitle    Zeus and Roxanne (1997)  unknown  Á köldum klaka (Cold Fever) (1994)  \nuser_id                                                                        \n1                            NaN      NaN                                 NaN  \n2                            NaN      NaN                                 NaN  \n3                            NaN      NaN                                 NaN  \n4                            NaN      NaN                                 NaN  \n5                            NaN      NaN                                 NaN  \n\n[5 rows x 1553 columns]",
            "text/html": "<div>\n<style scoped>\n    .dataframe tbody tr th:only-of-type {\n        vertical-align: middle;\n    }\n\n    .dataframe tbody tr th {\n        vertical-align: top;\n    }\n\n    .dataframe thead th {\n        text-align: right;\n    }\n</style>\n<table border=\"1\" class=\"dataframe\">\n  <thead>\n    <tr style=\"text-align: right;\">\n      <th>title</th>\n      <th>'Til There Was You (1997)</th>\n      <th>1-900 (1994)</th>\n      <th>101 Dalmatians (1996)</th>\n      <th>12 Angry Men (1957)</th>\n      <th>187 (1997)</th>\n      <th>2 Days in the Valley (1996)</th>\n      <th>20,000 Leagues Under the Sea (1954)</th>\n      <th>2001: A Space Odyssey (1968)</th>\n      <th>3 Ninjas: High Noon At Mega Mountain (1998)</th>\n      <th>39 Steps, The (1935)</th>\n      <th>...</th>\n      <th>Wyatt Earp (1994)</th>\n      <th>Year of the Horse (1997)</th>\n      <th>You So Crazy (1994)</th>\n      <th>Young Frankenstein (1974)</th>\n      <th>Young Guns (1988)</th>\n      <th>Young Guns II (1990)</th>\n      <th>Young Poisoner's Handbook, The (1995)</th>\n      <th>Zeus and Roxanne (1997)</th>\n      <th>unknown</th>\n      <th>Á köldum klaka (Cold Fever) (1994)</th>\n    </tr>\n    <tr>\n      <th>user_id</th>\n      <th></th>\n      <th></th>\n      <th></th>\n      <th></th>\n      <th></th>\n      <th></th>\n      <th></th>\n      <th></th>\n      <th></th>\n      <th></th>\n      <th></th>\n      <th></th>\n      <th></th>\n      <th></th>\n      <th></th>\n      <th></th>\n      <th></th>\n      <th></th>\n      <th></th>\n      <th></th>\n      <th></th>\n    </tr>\n  </thead>\n  <tbody>\n    <tr>\n      <th>1</th>\n      <td>NaN</td>\n      <td>NaN</td>\n      <td>NaN</td>\n      <td>NaN</td>\n      <td>NaN</td>\n      <td>NaN</td>\n      <td>NaN</td>\n      <td>NaN</td>\n      <td>NaN</td>\n      <td>NaN</td>\n      <td>...</td>\n      <td>NaN</td>\n      <td>NaN</td>\n      <td>NaN</td>\n      <td>NaN</td>\n      <td>NaN</td>\n      <td>NaN</td>\n      <td>NaN</td>\n      <td>NaN</td>\n      <td>NaN</td>\n      <td>NaN</td>\n    </tr>\n    <tr>\n      <th>2</th>\n      <td>NaN</td>\n      <td>NaN</td>\n      <td>NaN</td>\n      <td>NaN</td>\n      <td>NaN</td>\n      <td>NaN</td>\n      <td>NaN</td>\n      <td>NaN</td>\n      <td>NaN</td>\n      <td>NaN</td>\n      <td>...</td>\n      <td>NaN</td>\n      <td>NaN</td>\n      <td>NaN</td>\n      <td>NaN</td>\n      <td>NaN</td>\n      <td>NaN</td>\n      <td>NaN</td>\n      <td>NaN</td>\n      <td>NaN</td>\n      <td>NaN</td>\n    </tr>\n    <tr>\n      <th>3</th>\n      <td>NaN</td>\n      <td>NaN</td>\n      <td>NaN</td>\n      <td>NaN</td>\n      <td>NaN</td>\n      <td>NaN</td>\n      <td>NaN</td>\n      <td>NaN</td>\n      <td>NaN</td>\n      <td>NaN</td>\n      <td>...</td>\n      <td>NaN</td>\n      <td>NaN</td>\n      <td>NaN</td>\n      <td>NaN</td>\n      <td>NaN</td>\n      <td>NaN</td>\n      <td>NaN</td>\n      <td>NaN</td>\n      <td>NaN</td>\n      <td>NaN</td>\n    </tr>\n    <tr>\n      <th>4</th>\n      <td>NaN</td>\n      <td>NaN</td>\n      <td>NaN</td>\n      <td>NaN</td>\n      <td>NaN</td>\n      <td>NaN</td>\n      <td>NaN</td>\n      <td>NaN</td>\n      <td>NaN</td>\n      <td>NaN</td>\n      <td>...</td>\n      <td>NaN</td>\n      <td>NaN</td>\n      <td>NaN</td>\n      <td>NaN</td>\n      <td>NaN</td>\n      <td>NaN</td>\n      <td>NaN</td>\n      <td>NaN</td>\n      <td>NaN</td>\n      <td>NaN</td>\n    </tr>\n    <tr>\n      <th>5</th>\n      <td>NaN</td>\n      <td>NaN</td>\n      <td>NaN</td>\n      <td>NaN</td>\n      <td>NaN</td>\n      <td>NaN</td>\n      <td>NaN</td>\n      <td>NaN</td>\n      <td>NaN</td>\n      <td>NaN</td>\n      <td>...</td>\n      <td>NaN</td>\n      <td>NaN</td>\n      <td>NaN</td>\n      <td>NaN</td>\n      <td>NaN</td>\n      <td>NaN</td>\n      <td>NaN</td>\n      <td>NaN</td>\n      <td>NaN</td>\n      <td>NaN</td>\n    </tr>\n  </tbody>\n</table>\n<p>5 rows × 1553 columns</p>\n</div>"
          },
          "metadata": {}
        }
      ]
    },
    {
      "cell_type": "markdown",
      "source": "It's normal for there to be lots of NaN values, as not everyone would have seen most movies.\n\nChecking out the Most rated movie:",
      "metadata": {}
    },
    {
      "cell_type": "code",
      "source": "ratings.sort_values('num of ratings',ascending=False).head(10)",
      "metadata": {
        "trusted": true
      },
      "execution_count": 15,
      "outputs": [
        {
          "execution_count": 15,
          "output_type": "execute_result",
          "data": {
            "text/plain": "                                 rating  num of ratings\ntitle                                                  \nStar Wars (1977)               4.384615             299\nLiar Liar (1997)               3.211538             260\nReturn of the Jedi (1983)      4.015444             259\nEnglish Patient, The (1996)    3.686275             255\nFargo (1996)                   4.101961             255\nToy Story (1995)               3.887967             241\nContact (1997)                 3.756303             238\nIndependence Day (ID4) (1996)  3.381356             236\nAir Force One (1997)           3.636771             223\nScream (1996)                  3.378378             222",
            "text/html": "<div>\n<style scoped>\n    .dataframe tbody tr th:only-of-type {\n        vertical-align: middle;\n    }\n\n    .dataframe tbody tr th {\n        vertical-align: top;\n    }\n\n    .dataframe thead th {\n        text-align: right;\n    }\n</style>\n<table border=\"1\" class=\"dataframe\">\n  <thead>\n    <tr style=\"text-align: right;\">\n      <th></th>\n      <th>rating</th>\n      <th>num of ratings</th>\n    </tr>\n    <tr>\n      <th>title</th>\n      <th></th>\n      <th></th>\n    </tr>\n  </thead>\n  <tbody>\n    <tr>\n      <th>Star Wars (1977)</th>\n      <td>4.384615</td>\n      <td>299</td>\n    </tr>\n    <tr>\n      <th>Liar Liar (1997)</th>\n      <td>3.211538</td>\n      <td>260</td>\n    </tr>\n    <tr>\n      <th>Return of the Jedi (1983)</th>\n      <td>4.015444</td>\n      <td>259</td>\n    </tr>\n    <tr>\n      <th>English Patient, The (1996)</th>\n      <td>3.686275</td>\n      <td>255</td>\n    </tr>\n    <tr>\n      <th>Fargo (1996)</th>\n      <td>4.101961</td>\n      <td>255</td>\n    </tr>\n    <tr>\n      <th>Toy Story (1995)</th>\n      <td>3.887967</td>\n      <td>241</td>\n    </tr>\n    <tr>\n      <th>Contact (1997)</th>\n      <td>3.756303</td>\n      <td>238</td>\n    </tr>\n    <tr>\n      <th>Independence Day (ID4) (1996)</th>\n      <td>3.381356</td>\n      <td>236</td>\n    </tr>\n    <tr>\n      <th>Air Force One (1997)</th>\n      <td>3.636771</td>\n      <td>223</td>\n    </tr>\n    <tr>\n      <th>Scream (1996)</th>\n      <td>3.378378</td>\n      <td>222</td>\n    </tr>\n  </tbody>\n</table>\n</div>"
          },
          "metadata": {}
        }
      ]
    },
    {
      "cell_type": "markdown",
      "source": "Let's choose two movies to focus on: starwars, a sci-fi movie. And Dumb and Dumber, a comedy.",
      "metadata": {}
    },
    {
      "cell_type": "code",
      "source": "ratings.head()",
      "metadata": {
        "trusted": true
      },
      "execution_count": 16,
      "outputs": [
        {
          "execution_count": 16,
          "output_type": "execute_result",
          "data": {
            "text/plain": "                             rating  num of ratings\ntitle                                              \n'Til There Was You (1997)  2.333333               3\n1-900 (1994)               2.666667               3\n101 Dalmatians (1996)      2.877193              57\n12 Angry Men (1957)        4.360656              61\n187 (1997)                 3.130435              23",
            "text/html": "<div>\n<style scoped>\n    .dataframe tbody tr th:only-of-type {\n        vertical-align: middle;\n    }\n\n    .dataframe tbody tr th {\n        vertical-align: top;\n    }\n\n    .dataframe thead th {\n        text-align: right;\n    }\n</style>\n<table border=\"1\" class=\"dataframe\">\n  <thead>\n    <tr style=\"text-align: right;\">\n      <th></th>\n      <th>rating</th>\n      <th>num of ratings</th>\n    </tr>\n    <tr>\n      <th>title</th>\n      <th></th>\n      <th></th>\n    </tr>\n  </thead>\n  <tbody>\n    <tr>\n      <th>'Til There Was You (1997)</th>\n      <td>2.333333</td>\n      <td>3</td>\n    </tr>\n    <tr>\n      <th>1-900 (1994)</th>\n      <td>2.666667</td>\n      <td>3</td>\n    </tr>\n    <tr>\n      <th>101 Dalmatians (1996)</th>\n      <td>2.877193</td>\n      <td>57</td>\n    </tr>\n    <tr>\n      <th>12 Angry Men (1957)</th>\n      <td>4.360656</td>\n      <td>61</td>\n    </tr>\n    <tr>\n      <th>187 (1997)</th>\n      <td>3.130435</td>\n      <td>23</td>\n    </tr>\n  </tbody>\n</table>\n</div>"
          },
          "metadata": {}
        }
      ]
    },
    {
      "cell_type": "markdown",
      "source": "Now let's grab the user ratings for those two movies:",
      "metadata": {}
    },
    {
      "cell_type": "code",
      "source": "starwars_user_ratings = moviemat['Star Wars (1977)']\ndumb_user_ratings = moviemat['Liar Liar (1997)']\nstarwars_user_ratings.head()",
      "metadata": {
        "trusted": true
      },
      "execution_count": 17,
      "outputs": [
        {
          "execution_count": 17,
          "output_type": "execute_result",
          "data": {
            "text/plain": "user_id\n1   NaN\n2   NaN\n3   NaN\n4   NaN\n5   NaN\nName: Star Wars (1977), dtype: float64"
          },
          "metadata": {}
        }
      ]
    },
    {
      "cell_type": "markdown",
      "source": "We can then use corrwith() method to get correlations between two pandas series:",
      "metadata": {}
    },
    {
      "cell_type": "code",
      "source": "similar_to_starwars = moviemat.corrwith(starwars_user_ratings)\nsimilar_to_liarliar = moviemat.corrwith(dumb_user_ratings)",
      "metadata": {
        "trusted": true
      },
      "execution_count": 18,
      "outputs": [
        {
          "name": "stderr",
          "text": "/lib/python3.10/site-packages/numpy/lib/function_base.py:2821: RuntimeWarning: Degrees of freedom <= 0 for slice\n  c = cov(x, y, rowvar, dtype=dtype)\n/lib/python3.10/site-packages/numpy/lib/function_base.py:2821: RuntimeWarning: Degrees of freedom <= 0 for slice\n  c = cov(x, y, rowvar, dtype=dtype)\n",
          "output_type": "stream"
        }
      ]
    },
    {
      "cell_type": "markdown",
      "source": "Let's clean the data by removing NaN values and using a DataFrame instead of a series:",
      "metadata": {}
    },
    {
      "cell_type": "code",
      "source": "corr_starwars = pd.DataFrame(similar_to_starwars,columns=['Correlation'])\ncorr_starwars.dropna(inplace=True)\ncorr_starwars.head()",
      "metadata": {
        "trusted": true
      },
      "execution_count": 19,
      "outputs": [
        {
          "execution_count": 19,
          "output_type": "execute_result",
          "data": {
            "text/plain": "                                     Correlation\ntitle                                           \n101 Dalmatians (1996)                   0.193936\n12 Angry Men (1957)                     0.188129\n187 (1997)                             -0.218218\n2 Days in the Valley (1996)             0.065779\n20,000 Leagues Under the Sea (1954)     0.200000",
            "text/html": "<div>\n<style scoped>\n    .dataframe tbody tr th:only-of-type {\n        vertical-align: middle;\n    }\n\n    .dataframe tbody tr th {\n        vertical-align: top;\n    }\n\n    .dataframe thead th {\n        text-align: right;\n    }\n</style>\n<table border=\"1\" class=\"dataframe\">\n  <thead>\n    <tr style=\"text-align: right;\">\n      <th></th>\n      <th>Correlation</th>\n    </tr>\n    <tr>\n      <th>title</th>\n      <th></th>\n    </tr>\n  </thead>\n  <tbody>\n    <tr>\n      <th>101 Dalmatians (1996)</th>\n      <td>0.193936</td>\n    </tr>\n    <tr>\n      <th>12 Angry Men (1957)</th>\n      <td>0.188129</td>\n    </tr>\n    <tr>\n      <th>187 (1997)</th>\n      <td>-0.218218</td>\n    </tr>\n    <tr>\n      <th>2 Days in the Valley (1996)</th>\n      <td>0.065779</td>\n    </tr>\n    <tr>\n      <th>20,000 Leagues Under the Sea (1954)</th>\n      <td>0.200000</td>\n    </tr>\n  </tbody>\n</table>\n</div>"
          },
          "metadata": {}
        }
      ]
    },
    {
      "cell_type": "markdown",
      "source": "If we sort the dataframe by correlation, we should get the most similar movies, however there will be some results that don't really make sense.\n\nThis is because there are a lot of movies only watched once by users who also watched star wars (it was the most popular movie).",
      "metadata": {}
    },
    {
      "cell_type": "code",
      "source": "corr_starwars.sort_values('Correlation',ascending=False).head(10)",
      "metadata": {
        "trusted": true
      },
      "execution_count": 20,
      "outputs": [
        {
          "execution_count": 20,
          "output_type": "execute_result",
          "data": {
            "text/plain": "                                   Correlation\ntitle                                         \nDream With the Fishes (1997)               1.0\nLow Down Dirty Shame, A (1994)             1.0\nAll Dogs Go to Heaven 2 (1996)             1.0\nLove Serenade (1996)                       1.0\nStar Wars (1977)                           1.0\nTrust (1990)                               1.0\nKansas City (1996)                         1.0\nPest, The (1997)                           1.0\nChildren of the Revolution (1996)          1.0\nStriking Distance (1993)                   1.0",
            "text/html": "<div>\n<style scoped>\n    .dataframe tbody tr th:only-of-type {\n        vertical-align: middle;\n    }\n\n    .dataframe tbody tr th {\n        vertical-align: top;\n    }\n\n    .dataframe thead th {\n        text-align: right;\n    }\n</style>\n<table border=\"1\" class=\"dataframe\">\n  <thead>\n    <tr style=\"text-align: right;\">\n      <th></th>\n      <th>Correlation</th>\n    </tr>\n    <tr>\n      <th>title</th>\n      <th></th>\n    </tr>\n  </thead>\n  <tbody>\n    <tr>\n      <th>Dream With the Fishes (1997)</th>\n      <td>1.0</td>\n    </tr>\n    <tr>\n      <th>Low Down Dirty Shame, A (1994)</th>\n      <td>1.0</td>\n    </tr>\n    <tr>\n      <th>All Dogs Go to Heaven 2 (1996)</th>\n      <td>1.0</td>\n    </tr>\n    <tr>\n      <th>Love Serenade (1996)</th>\n      <td>1.0</td>\n    </tr>\n    <tr>\n      <th>Star Wars (1977)</th>\n      <td>1.0</td>\n    </tr>\n    <tr>\n      <th>Trust (1990)</th>\n      <td>1.0</td>\n    </tr>\n    <tr>\n      <th>Kansas City (1996)</th>\n      <td>1.0</td>\n    </tr>\n    <tr>\n      <th>Pest, The (1997)</th>\n      <td>1.0</td>\n    </tr>\n    <tr>\n      <th>Children of the Revolution (1996)</th>\n      <td>1.0</td>\n    </tr>\n    <tr>\n      <th>Striking Distance (1993)</th>\n      <td>1.0</td>\n    </tr>\n  </tbody>\n</table>\n</div>"
          },
          "metadata": {}
        }
      ]
    },
    {
      "cell_type": "markdown",
      "source": "Let's fix this by filtering out movies that have less than 100 reviews (this value was chosen based off the histogram from earlier).",
      "metadata": {}
    },
    {
      "cell_type": "code",
      "source": "corr_starwars = corr_starwars.join(ratings['num of ratings'])\ncorr_starwars.head()",
      "metadata": {
        "trusted": true
      },
      "execution_count": 21,
      "outputs": [
        {
          "execution_count": 21,
          "output_type": "execute_result",
          "data": {
            "text/plain": "                                     Correlation  num of ratings\ntitle                                                           \n101 Dalmatians (1996)                   0.193936              57\n12 Angry Men (1957)                     0.188129              61\n187 (1997)                             -0.218218              23\n2 Days in the Valley (1996)             0.065779              54\n20,000 Leagues Under the Sea (1954)     0.200000              41",
            "text/html": "<div>\n<style scoped>\n    .dataframe tbody tr th:only-of-type {\n        vertical-align: middle;\n    }\n\n    .dataframe tbody tr th {\n        vertical-align: top;\n    }\n\n    .dataframe thead th {\n        text-align: right;\n    }\n</style>\n<table border=\"1\" class=\"dataframe\">\n  <thead>\n    <tr style=\"text-align: right;\">\n      <th></th>\n      <th>Correlation</th>\n      <th>num of ratings</th>\n    </tr>\n    <tr>\n      <th>title</th>\n      <th></th>\n      <th></th>\n    </tr>\n  </thead>\n  <tbody>\n    <tr>\n      <th>101 Dalmatians (1996)</th>\n      <td>0.193936</td>\n      <td>57</td>\n    </tr>\n    <tr>\n      <th>12 Angry Men (1957)</th>\n      <td>0.188129</td>\n      <td>61</td>\n    </tr>\n    <tr>\n      <th>187 (1997)</th>\n      <td>-0.218218</td>\n      <td>23</td>\n    </tr>\n    <tr>\n      <th>2 Days in the Valley (1996)</th>\n      <td>0.065779</td>\n      <td>54</td>\n    </tr>\n    <tr>\n      <th>20,000 Leagues Under the Sea (1954)</th>\n      <td>0.200000</td>\n      <td>41</td>\n    </tr>\n  </tbody>\n</table>\n</div>"
          },
          "metadata": {}
        }
      ]
    },
    {
      "cell_type": "markdown",
      "source": "Now sort the values and notice how the titles make a lot more sense:",
      "metadata": {}
    },
    {
      "cell_type": "code",
      "source": "corr_starwars[corr_starwars['num of ratings']>100].sort_values('Correlation',ascending=False).head()",
      "metadata": {
        "trusted": true
      },
      "execution_count": 22,
      "outputs": [
        {
          "execution_count": 22,
          "output_type": "execute_result",
          "data": {
            "text/plain": "                                 Correlation  num of ratings\ntitle                                                       \nStar Wars (1977)                    1.000000             299\nEmpire Strikes Back, The (1980)     0.622195             188\nReturn of the Jedi (1983)           0.558921             259\nRaiders of the Lost Ark (1981)      0.506451             221\nTomorrow Never Dies (1997)          0.492095             101",
            "text/html": "<div>\n<style scoped>\n    .dataframe tbody tr th:only-of-type {\n        vertical-align: middle;\n    }\n\n    .dataframe tbody tr th {\n        vertical-align: top;\n    }\n\n    .dataframe thead th {\n        text-align: right;\n    }\n</style>\n<table border=\"1\" class=\"dataframe\">\n  <thead>\n    <tr style=\"text-align: right;\">\n      <th></th>\n      <th>Correlation</th>\n      <th>num of ratings</th>\n    </tr>\n    <tr>\n      <th>title</th>\n      <th></th>\n      <th></th>\n    </tr>\n  </thead>\n  <tbody>\n    <tr>\n      <th>Star Wars (1977)</th>\n      <td>1.000000</td>\n      <td>299</td>\n    </tr>\n    <tr>\n      <th>Empire Strikes Back, The (1980)</th>\n      <td>0.622195</td>\n      <td>188</td>\n    </tr>\n    <tr>\n      <th>Return of the Jedi (1983)</th>\n      <td>0.558921</td>\n      <td>259</td>\n    </tr>\n    <tr>\n      <th>Raiders of the Lost Ark (1981)</th>\n      <td>0.506451</td>\n      <td>221</td>\n    </tr>\n    <tr>\n      <th>Tomorrow Never Dies (1997)</th>\n      <td>0.492095</td>\n      <td>101</td>\n    </tr>\n  </tbody>\n</table>\n</div>"
          },
          "metadata": {}
        }
      ]
    },
    {
      "cell_type": "markdown",
      "source": "Now the same for Liar Liar:",
      "metadata": {}
    },
    {
      "cell_type": "code",
      "source": "corr_liarliar = pd.DataFrame(similar_to_liarliar,columns=['Correlation'])\ncorr_liarliar.dropna(inplace=True)\ncorr_liarliar = corr_liarliar.join(ratings['num of ratings'])\ncorr_liarliar[corr_liarliar['num of ratings']>100].sort_values('Correlation',ascending=False).head()",
      "metadata": {
        "trusted": true
      },
      "execution_count": 23,
      "outputs": [
        {
          "execution_count": 23,
          "output_type": "execute_result",
          "data": {
            "text/plain": "                                  Correlation  num of ratings\ntitle                                                        \nLiar Liar (1997)                     1.000000             260\nSleepless in Seattle (1993)          0.498420             112\nShawshank Redemption, The (1994)     0.485313             133\nChasing Amy (1997)                   0.483138             191\nIn & Out (1997)                      0.437710             117",
            "text/html": "<div>\n<style scoped>\n    .dataframe tbody tr th:only-of-type {\n        vertical-align: middle;\n    }\n\n    .dataframe tbody tr th {\n        vertical-align: top;\n    }\n\n    .dataframe thead th {\n        text-align: right;\n    }\n</style>\n<table border=\"1\" class=\"dataframe\">\n  <thead>\n    <tr style=\"text-align: right;\">\n      <th></th>\n      <th>Correlation</th>\n      <th>num of ratings</th>\n    </tr>\n    <tr>\n      <th>title</th>\n      <th></th>\n      <th></th>\n    </tr>\n  </thead>\n  <tbody>\n    <tr>\n      <th>Liar Liar (1997)</th>\n      <td>1.000000</td>\n      <td>260</td>\n    </tr>\n    <tr>\n      <th>Sleepless in Seattle (1993)</th>\n      <td>0.498420</td>\n      <td>112</td>\n    </tr>\n    <tr>\n      <th>Shawshank Redemption, The (1994)</th>\n      <td>0.485313</td>\n      <td>133</td>\n    </tr>\n    <tr>\n      <th>Chasing Amy (1997)</th>\n      <td>0.483138</td>\n      <td>191</td>\n    </tr>\n    <tr>\n      <th>In &amp; Out (1997)</th>\n      <td>0.437710</td>\n      <td>117</td>\n    </tr>\n  </tbody>\n</table>\n</div>"
          },
          "metadata": {}
        }
      ]
    },
    {
      "cell_type": "markdown",
      "source": "And we're done!\n\nIt looks like our results make sense. Even though the system is far from state of the art, it still recommended the other Star Wars movies (and another George Lucas film) for Star Wars; while it looks like there's some scope for more improvement in Liar Liar (although we do get another Jim Carrey movie as a recommendation too).",
      "metadata": {}
    },
    {
      "cell_type": "markdown",
      "source": "This concludes this project.",
      "metadata": {}
    }
  ]
}