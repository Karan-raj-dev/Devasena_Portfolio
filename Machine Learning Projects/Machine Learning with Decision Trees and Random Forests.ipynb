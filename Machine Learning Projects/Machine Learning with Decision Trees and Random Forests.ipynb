{
  "metadata": {
    "language_info": {
      "codemirror_mode": {
        "name": "python",
        "version": 3
      },
      "file_extension": ".py",
      "mimetype": "text/x-python",
      "name": "python",
      "nbconvert_exporter": "python",
      "pygments_lexer": "ipython3",
      "version": "3.8"
    },
    "kernelspec": {
      "name": "python",
      "display_name": "Python (Pyodide)",
      "language": "python"
    }
  },
  "nbformat_minor": 4,
  "nbformat": 4,
  "cells": [
    {
      "cell_type": "markdown",
      "source": "# Machine Learning with Decision Trees and Random Forests",
      "metadata": {}
    },
    {
      "cell_type": "markdown",
      "source": "In this project we will be exploring publicly available data from LendingClub.com. We will try to create a model that will help predict if a person has a high probability of paying the loan back.",
      "metadata": {}
    },
    {
      "cell_type": "code",
      "source": "import pandas as pd\nimport seaborn as sns\nimport matplotlib.pyplot as plt\n%matplotlib inline",
      "metadata": {
        "trusted": true
      },
      "execution_count": 1,
      "outputs": [
        {
          "ename": "<class 'ModuleNotFoundError'>",
          "evalue": "No module named 'seaborn'",
          "traceback": [
            "\u001b[0;31m---------------------------------------------------------------------------\u001b[0m",
            "\u001b[0;31mModuleNotFoundError\u001b[0m                       Traceback (most recent call last)",
            "Input \u001b[0;32mIn [1]\u001b[0m, in \u001b[0;36m<cell line: 2>\u001b[0;34m()\u001b[0m\n\u001b[1;32m      1\u001b[0m \u001b[38;5;28;01mimport\u001b[39;00m \u001b[38;5;21;01mpandas\u001b[39;00m \u001b[38;5;28;01mas\u001b[39;00m \u001b[38;5;21;01mpd\u001b[39;00m\n\u001b[0;32m----> 2\u001b[0m \u001b[38;5;28;01mimport\u001b[39;00m \u001b[38;5;21;01mseaborn\u001b[39;00m \u001b[38;5;28;01mas\u001b[39;00m \u001b[38;5;21;01msns\u001b[39;00m\n\u001b[1;32m      3\u001b[0m \u001b[38;5;28;01mimport\u001b[39;00m \u001b[38;5;21;01mmatplotlib\u001b[39;00m\u001b[38;5;21;01m.\u001b[39;00m\u001b[38;5;21;01mpyplot\u001b[39;00m \u001b[38;5;28;01mas\u001b[39;00m \u001b[38;5;21;01mplt\u001b[39;00m\n\u001b[1;32m      4\u001b[0m get_ipython()\u001b[38;5;241m.\u001b[39mrun_line_magic(\u001b[38;5;124m'\u001b[39m\u001b[38;5;124mmatplotlib\u001b[39m\u001b[38;5;124m'\u001b[39m, \u001b[38;5;124m'\u001b[39m\u001b[38;5;124minline\u001b[39m\u001b[38;5;124m'\u001b[39m)\n",
            "\u001b[0;31mModuleNotFoundError\u001b[0m: No module named 'seaborn'"
          ],
          "output_type": "error"
        }
      ]
    },
    {
      "cell_type": "markdown",
      "source": "## Data\nWe will use lending data from 2007-2010 and try to classify and predict whether or not the borrower paid back their loan in full.\n\nThe data set contains the following features:\n\n- credit.policy: 1 if the customer meets the credit underwriting criteria of LendingClub.com, and 0 otherwise.\n- purpose: The purpose of the loan (takes values \"credit_card\", \"debt_consolidation\", \"educational\", \"major_purchase\", \"small_business\", and \"all_other\").\n- int.rate: The interest rate of the loan, as a proportion (a rate of 11% would be stored as 0.11). Borrowers judged by LendingClub.com to be more risky are assigned higher interest rates.\n- installment: The monthly installments owed by the borrower if the loan is funded.\n- log.annual.inc: The natural log of the self-reported annual income of the borrower.\n- dti: The debt-to-income ratio of the borrower (amount of debt divided by annual income).\n- fico: The FICO credit score of the borrower.\n- days.with.cr.line: The number of days the borrower has had a credit line.\n- revol.bal: The borrower's revolving balance (amount unpaid at the end of the credit card billing cycle).\n- revol.util: The borrower's revolving line utilization rate (the amount of the credit line used relative to total credit available).\n- inq.last.6mths: The borrower's number of inquiries by creditors in the last 6 months.\n- delinq.2yrs: The number of times the borrower had been 30+ days past due on a payment in the past 2 years.\n- pub.rec: The borrower's number of derogatory public records (bankruptcy filings, tax liens, or judgments).",
      "metadata": {}
    },
    {
      "cell_type": "code",
      "source": "#Reading the data\nloans = pd.read_csv('../data/loan_data.csv')",
      "metadata": {
        "trusted": true
      },
      "execution_count": 2,
      "outputs": []
    },
    {
      "cell_type": "code",
      "source": "loans.info()",
      "metadata": {
        "trusted": true
      },
      "execution_count": 3,
      "outputs": [
        {
          "name": "stdout",
          "text": "<class 'pandas.core.frame.DataFrame'>\nRangeIndex: 9578 entries, 0 to 9577\nData columns (total 14 columns):\n #   Column             Non-Null Count  Dtype  \n---  ------             --------------  -----  \n 0   credit.policy      9578 non-null   int64  \n 1   purpose            9578 non-null   object \n 2   int.rate           9578 non-null   float64\n 3   installment        9578 non-null   float64\n 4   log.annual.inc     9578 non-null   float64\n 5   dti                9578 non-null   float64\n 6   fico               9578 non-null   int64  \n 7   days.with.cr.line  9578 non-null   float64\n 8   revol.bal          9578 non-null   int64  \n 9   revol.util         9578 non-null   float64\n 10  inq.last.6mths     9578 non-null   int64  \n 11  delinq.2yrs        9578 non-null   int64  \n 12  pub.rec            9578 non-null   int64  \n 13  not.fully.paid     9578 non-null   int64  \ndtypes: float64(6), int64(7), object(1)\nmemory usage: 1010.2+ KB\n",
          "output_type": "stream"
        }
      ]
    },
    {
      "cell_type": "code",
      "source": "loans.describe()",
      "metadata": {
        "trusted": true
      },
      "execution_count": 4,
      "outputs": [
        {
          "execution_count": 4,
          "output_type": "execute_result",
          "data": {
            "text/plain": "       credit.policy     int.rate  installment  log.annual.inc          dti  \\\ncount    9578.000000  9578.000000  9578.000000     9578.000000  9578.000000   \nmean        0.804970     0.122640   319.089413       10.932117    12.606679   \nstd         0.396245     0.026847   207.071301        0.614813     6.883970   \nmin         0.000000     0.060000    15.670000        7.547502     0.000000   \n25%         1.000000     0.103900   163.770000       10.558414     7.212500   \n50%         1.000000     0.122100   268.950000       10.928884    12.665000   \n75%         1.000000     0.140700   432.762500       11.291293    17.950000   \nmax         1.000000     0.216400   940.140000       14.528354    29.960000   \n\n              fico  days.with.cr.line     revol.bal   revol.util  \\\ncount  9578.000000        9578.000000  9.578000e+03  9578.000000   \nmean    710.846314        4560.767197  1.691396e+04    46.799236   \nstd      37.970537        2496.930377  3.375619e+04    29.014417   \nmin     612.000000         178.958333  0.000000e+00     0.000000   \n25%     682.000000        2820.000000  3.187000e+03    22.600000   \n50%     707.000000        4139.958333  8.596000e+03    46.300000   \n75%     737.000000        5730.000000  1.824950e+04    70.900000   \nmax     827.000000       17639.958330  1.207359e+06   119.000000   \n\n       inq.last.6mths  delinq.2yrs      pub.rec  not.fully.paid  \ncount     9578.000000  9578.000000  9578.000000     9578.000000  \nmean         1.577469     0.163708     0.062122        0.160054  \nstd          2.200245     0.546215     0.262126        0.366676  \nmin          0.000000     0.000000     0.000000        0.000000  \n25%          0.000000     0.000000     0.000000        0.000000  \n50%          1.000000     0.000000     0.000000        0.000000  \n75%          2.000000     0.000000     0.000000        0.000000  \nmax         33.000000    13.000000     5.000000        1.000000  ",
            "text/html": "<div>\n<style scoped>\n    .dataframe tbody tr th:only-of-type {\n        vertical-align: middle;\n    }\n\n    .dataframe tbody tr th {\n        vertical-align: top;\n    }\n\n    .dataframe thead th {\n        text-align: right;\n    }\n</style>\n<table border=\"1\" class=\"dataframe\">\n  <thead>\n    <tr style=\"text-align: right;\">\n      <th></th>\n      <th>credit.policy</th>\n      <th>int.rate</th>\n      <th>installment</th>\n      <th>log.annual.inc</th>\n      <th>dti</th>\n      <th>fico</th>\n      <th>days.with.cr.line</th>\n      <th>revol.bal</th>\n      <th>revol.util</th>\n      <th>inq.last.6mths</th>\n      <th>delinq.2yrs</th>\n      <th>pub.rec</th>\n      <th>not.fully.paid</th>\n    </tr>\n  </thead>\n  <tbody>\n    <tr>\n      <th>count</th>\n      <td>9578.000000</td>\n      <td>9578.000000</td>\n      <td>9578.000000</td>\n      <td>9578.000000</td>\n      <td>9578.000000</td>\n      <td>9578.000000</td>\n      <td>9578.000000</td>\n      <td>9.578000e+03</td>\n      <td>9578.000000</td>\n      <td>9578.000000</td>\n      <td>9578.000000</td>\n      <td>9578.000000</td>\n      <td>9578.000000</td>\n    </tr>\n    <tr>\n      <th>mean</th>\n      <td>0.804970</td>\n      <td>0.122640</td>\n      <td>319.089413</td>\n      <td>10.932117</td>\n      <td>12.606679</td>\n      <td>710.846314</td>\n      <td>4560.767197</td>\n      <td>1.691396e+04</td>\n      <td>46.799236</td>\n      <td>1.577469</td>\n      <td>0.163708</td>\n      <td>0.062122</td>\n      <td>0.160054</td>\n    </tr>\n    <tr>\n      <th>std</th>\n      <td>0.396245</td>\n      <td>0.026847</td>\n      <td>207.071301</td>\n      <td>0.614813</td>\n      <td>6.883970</td>\n      <td>37.970537</td>\n      <td>2496.930377</td>\n      <td>3.375619e+04</td>\n      <td>29.014417</td>\n      <td>2.200245</td>\n      <td>0.546215</td>\n      <td>0.262126</td>\n      <td>0.366676</td>\n    </tr>\n    <tr>\n      <th>min</th>\n      <td>0.000000</td>\n      <td>0.060000</td>\n      <td>15.670000</td>\n      <td>7.547502</td>\n      <td>0.000000</td>\n      <td>612.000000</td>\n      <td>178.958333</td>\n      <td>0.000000e+00</td>\n      <td>0.000000</td>\n      <td>0.000000</td>\n      <td>0.000000</td>\n      <td>0.000000</td>\n      <td>0.000000</td>\n    </tr>\n    <tr>\n      <th>25%</th>\n      <td>1.000000</td>\n      <td>0.103900</td>\n      <td>163.770000</td>\n      <td>10.558414</td>\n      <td>7.212500</td>\n      <td>682.000000</td>\n      <td>2820.000000</td>\n      <td>3.187000e+03</td>\n      <td>22.600000</td>\n      <td>0.000000</td>\n      <td>0.000000</td>\n      <td>0.000000</td>\n      <td>0.000000</td>\n    </tr>\n    <tr>\n      <th>50%</th>\n      <td>1.000000</td>\n      <td>0.122100</td>\n      <td>268.950000</td>\n      <td>10.928884</td>\n      <td>12.665000</td>\n      <td>707.000000</td>\n      <td>4139.958333</td>\n      <td>8.596000e+03</td>\n      <td>46.300000</td>\n      <td>1.000000</td>\n      <td>0.000000</td>\n      <td>0.000000</td>\n      <td>0.000000</td>\n    </tr>\n    <tr>\n      <th>75%</th>\n      <td>1.000000</td>\n      <td>0.140700</td>\n      <td>432.762500</td>\n      <td>11.291293</td>\n      <td>17.950000</td>\n      <td>737.000000</td>\n      <td>5730.000000</td>\n      <td>1.824950e+04</td>\n      <td>70.900000</td>\n      <td>2.000000</td>\n      <td>0.000000</td>\n      <td>0.000000</td>\n      <td>0.000000</td>\n    </tr>\n    <tr>\n      <th>max</th>\n      <td>1.000000</td>\n      <td>0.216400</td>\n      <td>940.140000</td>\n      <td>14.528354</td>\n      <td>29.960000</td>\n      <td>827.000000</td>\n      <td>17639.958330</td>\n      <td>1.207359e+06</td>\n      <td>119.000000</td>\n      <td>33.000000</td>\n      <td>13.000000</td>\n      <td>5.000000</td>\n      <td>1.000000</td>\n    </tr>\n  </tbody>\n</table>\n</div>"
          },
          "metadata": {}
        }
      ]
    },
    {
      "cell_type": "code",
      "source": "loans.head()",
      "metadata": {
        "trusted": true
      },
      "execution_count": 5,
      "outputs": [
        {
          "execution_count": 5,
          "output_type": "execute_result",
          "data": {
            "text/plain": "   credit.policy             purpose  int.rate  installment  log.annual.inc  \\\n0              1  debt_consolidation    0.1189       829.10       11.350407   \n1              1         credit_card    0.1071       228.22       11.082143   \n2              1  debt_consolidation    0.1357       366.86       10.373491   \n3              1  debt_consolidation    0.1008       162.34       11.350407   \n4              1         credit_card    0.1426       102.92       11.299732   \n\n     dti  fico  days.with.cr.line  revol.bal  revol.util  inq.last.6mths  \\\n0  19.48   737        5639.958333      28854        52.1               0   \n1  14.29   707        2760.000000      33623        76.7               0   \n2  11.63   682        4710.000000       3511        25.6               1   \n3   8.10   712        2699.958333      33667        73.2               1   \n4  14.97   667        4066.000000       4740        39.5               0   \n\n   delinq.2yrs  pub.rec  not.fully.paid  \n0            0        0               0  \n1            0        0               0  \n2            0        0               0  \n3            0        0               0  \n4            1        0               0  ",
            "text/html": "<div>\n<style scoped>\n    .dataframe tbody tr th:only-of-type {\n        vertical-align: middle;\n    }\n\n    .dataframe tbody tr th {\n        vertical-align: top;\n    }\n\n    .dataframe thead th {\n        text-align: right;\n    }\n</style>\n<table border=\"1\" class=\"dataframe\">\n  <thead>\n    <tr style=\"text-align: right;\">\n      <th></th>\n      <th>credit.policy</th>\n      <th>purpose</th>\n      <th>int.rate</th>\n      <th>installment</th>\n      <th>log.annual.inc</th>\n      <th>dti</th>\n      <th>fico</th>\n      <th>days.with.cr.line</th>\n      <th>revol.bal</th>\n      <th>revol.util</th>\n      <th>inq.last.6mths</th>\n      <th>delinq.2yrs</th>\n      <th>pub.rec</th>\n      <th>not.fully.paid</th>\n    </tr>\n  </thead>\n  <tbody>\n    <tr>\n      <th>0</th>\n      <td>1</td>\n      <td>debt_consolidation</td>\n      <td>0.1189</td>\n      <td>829.10</td>\n      <td>11.350407</td>\n      <td>19.48</td>\n      <td>737</td>\n      <td>5639.958333</td>\n      <td>28854</td>\n      <td>52.1</td>\n      <td>0</td>\n      <td>0</td>\n      <td>0</td>\n      <td>0</td>\n    </tr>\n    <tr>\n      <th>1</th>\n      <td>1</td>\n      <td>credit_card</td>\n      <td>0.1071</td>\n      <td>228.22</td>\n      <td>11.082143</td>\n      <td>14.29</td>\n      <td>707</td>\n      <td>2760.000000</td>\n      <td>33623</td>\n      <td>76.7</td>\n      <td>0</td>\n      <td>0</td>\n      <td>0</td>\n      <td>0</td>\n    </tr>\n    <tr>\n      <th>2</th>\n      <td>1</td>\n      <td>debt_consolidation</td>\n      <td>0.1357</td>\n      <td>366.86</td>\n      <td>10.373491</td>\n      <td>11.63</td>\n      <td>682</td>\n      <td>4710.000000</td>\n      <td>3511</td>\n      <td>25.6</td>\n      <td>1</td>\n      <td>0</td>\n      <td>0</td>\n      <td>0</td>\n    </tr>\n    <tr>\n      <th>3</th>\n      <td>1</td>\n      <td>debt_consolidation</td>\n      <td>0.1008</td>\n      <td>162.34</td>\n      <td>11.350407</td>\n      <td>8.10</td>\n      <td>712</td>\n      <td>2699.958333</td>\n      <td>33667</td>\n      <td>73.2</td>\n      <td>1</td>\n      <td>0</td>\n      <td>0</td>\n      <td>0</td>\n    </tr>\n    <tr>\n      <th>4</th>\n      <td>1</td>\n      <td>credit_card</td>\n      <td>0.1426</td>\n      <td>102.92</td>\n      <td>11.299732</td>\n      <td>14.97</td>\n      <td>667</td>\n      <td>4066.000000</td>\n      <td>4740</td>\n      <td>39.5</td>\n      <td>0</td>\n      <td>1</td>\n      <td>0</td>\n      <td>0</td>\n    </tr>\n  </tbody>\n</table>\n</div>"
          },
          "metadata": {}
        }
      ]
    },
    {
      "cell_type": "markdown",
      "source": "## Exploratory Data Analysis\nUsing quick visualisations, we can explore the relationship between different variables in the dataset.\n\nLet's start with a dual histogram of the FICO score of the borrowers, depending on the credit policy (i.e. if a borrower met the underlying criteria).",
      "metadata": {}
    },
    {
      "cell_type": "code",
      "source": "loans[loans['credit.policy']==1]['fico'].hist(bins=30,alpha=0.6,label='Credit.Policy=1')\nloans[loans['credit.policy']==0]['fico'].hist(bins=30,alpha=0.6,label='Credit.Policy=0')\nplt.legend()\nplt.xlabel('FICO')",
      "metadata": {},
      "execution_count": null,
      "outputs": []
    },
    {
      "cell_type": "markdown",
      "source": "Checking out a similar histogram, based on the 'not.fully.paid' column.",
      "metadata": {}
    },
    {
      "cell_type": "code",
      "source": "loans[loans['not.fully.paid']==1]['fico'].hist(bins=30,alpha=0.6,label='not.fully.paid=1',color='red')\nloans[loans['not.fully.paid']==0]['fico'].hist(bins=30,alpha=0.6,label='not.fully.paid=0')\nplt.legend()\nplt.xlabel('FICO')",
      "metadata": {},
      "execution_count": null,
      "outputs": []
    },
    {
      "cell_type": "markdown",
      "source": "Let's visualize the counts of of loan purposes, based on whether a borrower fully paid the loan back or not.",
      "metadata": {}
    },
    {
      "cell_type": "code",
      "source": "plt.figure(figsize=(9,5))\nsns.countplot(x=loans['purpose'],hue=loans['not.fully.paid'])\nplt.tight_layout()",
      "metadata": {},
      "execution_count": null,
      "outputs": []
    },
    {
      "cell_type": "markdown",
      "source": "Let's see the trend between FICO score and interest rate.",
      "metadata": {}
    },
    {
      "cell_type": "code",
      "source": "sns.jointplot(x='fico',y='int.rate',data=loans)",
      "metadata": {},
      "execution_count": null,
      "outputs": []
    },
    {
      "cell_type": "markdown",
      "source": "## Model Building\nThe purpose column is categorical.\n\nThat means we need to transform them using dummy variables so sklearn will be able to understand them.",
      "metadata": {}
    },
    {
      "cell_type": "code",
      "source": "#Creating a list of all categorical features.\ncat_feats = ['purpose']",
      "metadata": {},
      "execution_count": null,
      "outputs": []
    },
    {
      "cell_type": "code",
      "source": "final_data = pd.get_dummies(loans,columns=cat_feats,drop_first=True)",
      "metadata": {},
      "execution_count": null,
      "outputs": []
    },
    {
      "cell_type": "markdown",
      "source": "## Train Test Split",
      "metadata": {}
    },
    {
      "cell_type": "code",
      "source": "final_data.columns",
      "metadata": {},
      "execution_count": null,
      "outputs": []
    },
    {
      "cell_type": "code",
      "source": "X = final_data.drop('not.fully.paid',axis=1)\ny = final_data['not.fully.paid']",
      "metadata": {},
      "execution_count": null,
      "outputs": []
    },
    {
      "cell_type": "code",
      "source": "from sklearn.model_selection import train_test_split\n\nX_train,X_test,y_train,y_test = train_test_split(X,y,test_size=0.3)",
      "metadata": {},
      "execution_count": null,
      "outputs": []
    },
    {
      "cell_type": "markdown",
      "source": "## Training a Decision Tree Model",
      "metadata": {}
    },
    {
      "cell_type": "code",
      "source": "from sklearn.tree import DecisionTreeClassifier",
      "metadata": {},
      "execution_count": null,
      "outputs": []
    },
    {
      "cell_type": "code",
      "source": "dtree= DecisionTreeClassifier()",
      "metadata": {},
      "execution_count": null,
      "outputs": []
    },
    {
      "cell_type": "code",
      "source": "dtree.fit(X_train,y_train)",
      "metadata": {},
      "execution_count": null,
      "outputs": []
    },
    {
      "cell_type": "markdown",
      "source": "## Predictions and Evaluation of Decision Tree",
      "metadata": {}
    },
    {
      "cell_type": "code",
      "source": "predictions = dtree.predict(X_test)",
      "metadata": {},
      "execution_count": null,
      "outputs": []
    },
    {
      "cell_type": "code",
      "source": "from sklearn.metrics import classification_report,confusion_matrix",
      "metadata": {},
      "execution_count": null,
      "outputs": []
    },
    {
      "cell_type": "code",
      "source": "print(classification_report(y_test,predictions))",
      "metadata": {},
      "execution_count": null,
      "outputs": []
    },
    {
      "cell_type": "code",
      "source": "print(confusion_matrix(y_test,predictions))",
      "metadata": {},
      "execution_count": null,
      "outputs": []
    },
    {
      "cell_type": "markdown",
      "source": "## Training the Random Forest model",
      "metadata": {}
    },
    {
      "cell_type": "code",
      "source": "from sklearn.ensemble import RandomForestClassifier",
      "metadata": {},
      "execution_count": null,
      "outputs": []
    },
    {
      "cell_type": "code",
      "source": "rfc = RandomForestClassifier()",
      "metadata": {},
      "execution_count": null,
      "outputs": []
    },
    {
      "cell_type": "code",
      "source": "rfc.fit(X_train,y_train)",
      "metadata": {},
      "execution_count": null,
      "outputs": []
    },
    {
      "cell_type": "markdown",
      "source": "## Predictions and Evaluation of Random Forest",
      "metadata": {}
    },
    {
      "cell_type": "code",
      "source": "predictions = rfc.predict(X_test)",
      "metadata": {},
      "execution_count": null,
      "outputs": []
    },
    {
      "cell_type": "code",
      "source": "print(classification_report(y_test,predictions))",
      "metadata": {},
      "execution_count": null,
      "outputs": []
    },
    {
      "cell_type": "code",
      "source": "print(confusion_matrix(y_test,predictions))",
      "metadata": {},
      "execution_count": null,
      "outputs": []
    },
    {
      "cell_type": "markdown",
      "source": "In conclusion, the random forest performed moderately better than the decision tree model.",
      "metadata": {}
    },
    {
      "cell_type": "markdown",
      "source": "This concludes this project.",
      "metadata": {}
    }
  ]
}