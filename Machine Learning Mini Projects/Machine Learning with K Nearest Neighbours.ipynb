{
  "metadata": {
    "language_info": {
      "codemirror_mode": {
        "name": "python",
        "version": 3
      },
      "file_extension": ".py",
      "mimetype": "text/x-python",
      "name": "python",
      "nbconvert_exporter": "python",
      "pygments_lexer": "ipython3",
      "version": "3.8"
    },
    "kernelspec": {
      "name": "python",
      "display_name": "Python (Pyodide)",
      "language": "python"
    }
  },
  "nbformat_minor": 4,
  "nbformat": 4,
  "cells": [
    {
      "cell_type": "markdown",
      "source": "# Machine Learning with K Nearest Neighbors",
      "metadata": {}
    },
    {
      "cell_type": "markdown",
      "source": "In this project, we'll use the KNN algorithm to classify instances from a fake dataset into one or the other target class.",
      "metadata": {}
    },
    {
      "cell_type": "code",
      "source": "#This is to install required modules\nimport piplite\nawait piplite.install('seaborn')\nawait piplite.install('scipy')",
      "metadata": {
        "trusted": true
      },
      "execution_count": 1,
      "outputs": []
    },
    {
      "cell_type": "code",
      "source": "import pandas as pd\nimport numpy as np\nimport seaborn as sns\nimport matplotlib.pyplot as plt\n%matplotlib inline",
      "metadata": {
        "trusted": true
      },
      "execution_count": 2,
      "outputs": []
    },
    {
      "cell_type": "markdown",
      "source": "## Data",
      "metadata": {}
    },
    {
      "cell_type": "code",
      "source": "df = pd.read_csv('../data/KNN_Project_Data.csv')",
      "metadata": {
        "trusted": true
      },
      "execution_count": 3,
      "outputs": []
    },
    {
      "cell_type": "code",
      "source": "df.head()",
      "metadata": {
        "trusted": true
      },
      "execution_count": 4,
      "outputs": [
        {
          "execution_count": 4,
          "output_type": "execute_result",
          "data": {
            "text/plain": "          XVPM         GWYH         TRAT        TLLZ         IGGA  \\\n0  1636.670614   817.988525  2565.995189  358.347163   550.417491   \n1  1013.402760   577.587332  2644.141273  280.428203  1161.873391   \n2  1300.035501   820.518697  2025.854469  525.562292   922.206261   \n3  1059.347542  1066.866418   612.000041  480.827789   419.467495   \n4  1018.340526  1313.679056   950.622661  724.742174   843.065903   \n\n          HYKR         EDFS        GUUB         MGJM         JHZC  \\\n0  1618.870897  2147.641254  330.727893  1494.878631   845.136088   \n1  2084.107872   853.404981  447.157619  1193.032521   861.081809   \n2  2552.355407   818.676686  845.491492  1968.367513  1647.186291   \n3   685.666983   852.867810  341.664784  1154.391368  1450.935357   \n4  1370.554164   905.469453  658.118202   539.459350  1899.850792   \n\n   TARGET CLASS  \n0             0  \n1             1  \n2             1  \n3             0  \n4             0  ",
            "text/html": "<div>\n<style scoped>\n    .dataframe tbody tr th:only-of-type {\n        vertical-align: middle;\n    }\n\n    .dataframe tbody tr th {\n        vertical-align: top;\n    }\n\n    .dataframe thead th {\n        text-align: right;\n    }\n</style>\n<table border=\"1\" class=\"dataframe\">\n  <thead>\n    <tr style=\"text-align: right;\">\n      <th></th>\n      <th>XVPM</th>\n      <th>GWYH</th>\n      <th>TRAT</th>\n      <th>TLLZ</th>\n      <th>IGGA</th>\n      <th>HYKR</th>\n      <th>EDFS</th>\n      <th>GUUB</th>\n      <th>MGJM</th>\n      <th>JHZC</th>\n      <th>TARGET CLASS</th>\n    </tr>\n  </thead>\n  <tbody>\n    <tr>\n      <th>0</th>\n      <td>1636.670614</td>\n      <td>817.988525</td>\n      <td>2565.995189</td>\n      <td>358.347163</td>\n      <td>550.417491</td>\n      <td>1618.870897</td>\n      <td>2147.641254</td>\n      <td>330.727893</td>\n      <td>1494.878631</td>\n      <td>845.136088</td>\n      <td>0</td>\n    </tr>\n    <tr>\n      <th>1</th>\n      <td>1013.402760</td>\n      <td>577.587332</td>\n      <td>2644.141273</td>\n      <td>280.428203</td>\n      <td>1161.873391</td>\n      <td>2084.107872</td>\n      <td>853.404981</td>\n      <td>447.157619</td>\n      <td>1193.032521</td>\n      <td>861.081809</td>\n      <td>1</td>\n    </tr>\n    <tr>\n      <th>2</th>\n      <td>1300.035501</td>\n      <td>820.518697</td>\n      <td>2025.854469</td>\n      <td>525.562292</td>\n      <td>922.206261</td>\n      <td>2552.355407</td>\n      <td>818.676686</td>\n      <td>845.491492</td>\n      <td>1968.367513</td>\n      <td>1647.186291</td>\n      <td>1</td>\n    </tr>\n    <tr>\n      <th>3</th>\n      <td>1059.347542</td>\n      <td>1066.866418</td>\n      <td>612.000041</td>\n      <td>480.827789</td>\n      <td>419.467495</td>\n      <td>685.666983</td>\n      <td>852.867810</td>\n      <td>341.664784</td>\n      <td>1154.391368</td>\n      <td>1450.935357</td>\n      <td>0</td>\n    </tr>\n    <tr>\n      <th>4</th>\n      <td>1018.340526</td>\n      <td>1313.679056</td>\n      <td>950.622661</td>\n      <td>724.742174</td>\n      <td>843.065903</td>\n      <td>1370.554164</td>\n      <td>905.469453</td>\n      <td>658.118202</td>\n      <td>539.459350</td>\n      <td>1899.850792</td>\n      <td>0</td>\n    </tr>\n  </tbody>\n</table>\n</div>"
          },
          "metadata": {}
        }
      ]
    },
    {
      "cell_type": "markdown",
      "source": "## Standardizing the Variables\nBecause of the type of data we're dealing with, it's important to standardize the variables before training our model. Skewed distribution of variables makes it harder for our model to deal with it.",
      "metadata": {}
    },
    {
      "cell_type": "code",
      "source": "from sklearn.preprocessing import StandardScaler",
      "metadata": {
        "trusted": true
      },
      "execution_count": 5,
      "outputs": []
    },
    {
      "cell_type": "code",
      "source": "scaler = StandardScaler()",
      "metadata": {
        "trusted": true
      },
      "execution_count": 6,
      "outputs": []
    },
    {
      "cell_type": "code",
      "source": "df.columns",
      "metadata": {
        "trusted": true
      },
      "execution_count": 7,
      "outputs": [
        {
          "execution_count": 7,
          "output_type": "execute_result",
          "data": {
            "text/plain": "Index(['XVPM', 'GWYH', 'TRAT', 'TLLZ', 'IGGA', 'HYKR', 'EDFS', 'GUUB', 'MGJM',\n       'JHZC', 'TARGET CLASS'],\n      dtype='object')"
          },
          "metadata": {}
        }
      ]
    },
    {
      "cell_type": "markdown",
      "source": "Of course, we don't need to scale the target class, so we'll ignore that during scaler fitting.",
      "metadata": {}
    },
    {
      "cell_type": "code",
      "source": "scaler.fit(df.drop('TARGET CLASS',axis=1))",
      "metadata": {
        "trusted": true
      },
      "execution_count": 8,
      "outputs": [
        {
          "execution_count": 8,
          "output_type": "execute_result",
          "data": {
            "text/plain": "StandardScaler()"
          },
          "metadata": {}
        }
      ]
    },
    {
      "cell_type": "markdown",
      "source": "Now we'll use the .transform() method to transform the features to a scaled version.",
      "metadata": {}
    },
    {
      "cell_type": "code",
      "source": "scaled_feats = scaler.transform(df.drop('TARGET CLASS',axis=1))",
      "metadata": {
        "trusted": true
      },
      "execution_count": 9,
      "outputs": []
    },
    {
      "cell_type": "code",
      "source": "#Converting the scaled features to a dataframe\nscaled_df = pd.DataFrame(scaled_feats)\nscaled_df.columns =['XVPM', 'GWYH', 'TRAT', 'TLLZ', 'IGGA', 'HYKR', 'EDFS', 'GUUB', 'MGJM',\n       'JHZC']",
      "metadata": {
        "trusted": true
      },
      "execution_count": 10,
      "outputs": []
    },
    {
      "cell_type": "code",
      "source": "scaled_df.head()",
      "metadata": {
        "trusted": true
      },
      "execution_count": 11,
      "outputs": [
        {
          "execution_count": 11,
          "output_type": "execute_result",
          "data": {
            "text/plain": "       XVPM      GWYH      TRAT      TLLZ      IGGA      HYKR      EDFS  \\\n0  1.568522 -0.443435  1.619808 -0.958255 -1.128481  0.138336  0.980493   \n1 -0.112376 -1.056574  1.741918 -1.504220  0.640009  1.081552 -1.182663   \n2  0.660647 -0.436981  0.775793  0.213394 -0.053171  2.030872 -1.240707   \n3  0.011533  0.191324 -1.433473 -0.100053 -1.507223 -1.753632 -1.183561   \n4 -0.099059  0.820815 -0.904346  1.609015 -0.282065 -0.365099 -1.095644   \n\n       GUUB      MGJM      JHZC  \n0 -0.932794  1.008313 -1.069627  \n1 -0.461864  0.258321 -1.041546  \n2  1.149298  2.184784  0.342811  \n3 -0.888557  0.162310 -0.002793  \n4  0.391419 -1.365603  0.787762  ",
            "text/html": "<div>\n<style scoped>\n    .dataframe tbody tr th:only-of-type {\n        vertical-align: middle;\n    }\n\n    .dataframe tbody tr th {\n        vertical-align: top;\n    }\n\n    .dataframe thead th {\n        text-align: right;\n    }\n</style>\n<table border=\"1\" class=\"dataframe\">\n  <thead>\n    <tr style=\"text-align: right;\">\n      <th></th>\n      <th>XVPM</th>\n      <th>GWYH</th>\n      <th>TRAT</th>\n      <th>TLLZ</th>\n      <th>IGGA</th>\n      <th>HYKR</th>\n      <th>EDFS</th>\n      <th>GUUB</th>\n      <th>MGJM</th>\n      <th>JHZC</th>\n    </tr>\n  </thead>\n  <tbody>\n    <tr>\n      <th>0</th>\n      <td>1.568522</td>\n      <td>-0.443435</td>\n      <td>1.619808</td>\n      <td>-0.958255</td>\n      <td>-1.128481</td>\n      <td>0.138336</td>\n      <td>0.980493</td>\n      <td>-0.932794</td>\n      <td>1.008313</td>\n      <td>-1.069627</td>\n    </tr>\n    <tr>\n      <th>1</th>\n      <td>-0.112376</td>\n      <td>-1.056574</td>\n      <td>1.741918</td>\n      <td>-1.504220</td>\n      <td>0.640009</td>\n      <td>1.081552</td>\n      <td>-1.182663</td>\n      <td>-0.461864</td>\n      <td>0.258321</td>\n      <td>-1.041546</td>\n    </tr>\n    <tr>\n      <th>2</th>\n      <td>0.660647</td>\n      <td>-0.436981</td>\n      <td>0.775793</td>\n      <td>0.213394</td>\n      <td>-0.053171</td>\n      <td>2.030872</td>\n      <td>-1.240707</td>\n      <td>1.149298</td>\n      <td>2.184784</td>\n      <td>0.342811</td>\n    </tr>\n    <tr>\n      <th>3</th>\n      <td>0.011533</td>\n      <td>0.191324</td>\n      <td>-1.433473</td>\n      <td>-0.100053</td>\n      <td>-1.507223</td>\n      <td>-1.753632</td>\n      <td>-1.183561</td>\n      <td>-0.888557</td>\n      <td>0.162310</td>\n      <td>-0.002793</td>\n    </tr>\n    <tr>\n      <th>4</th>\n      <td>-0.099059</td>\n      <td>0.820815</td>\n      <td>-0.904346</td>\n      <td>1.609015</td>\n      <td>-0.282065</td>\n      <td>-0.365099</td>\n      <td>-1.095644</td>\n      <td>0.391419</td>\n      <td>-1.365603</td>\n      <td>0.787762</td>\n    </tr>\n  </tbody>\n</table>\n</div>"
          },
          "metadata": {}
        }
      ]
    },
    {
      "cell_type": "markdown",
      "source": "## Model Building",
      "metadata": {}
    },
    {
      "cell_type": "code",
      "source": "#Begin with splitting the data into training and test sets\nfrom sklearn.model_selection import train_test_split",
      "metadata": {
        "trusted": true
      },
      "execution_count": 12,
      "outputs": []
    },
    {
      "cell_type": "code",
      "source": "X = scaled_df\ny = df['TARGET CLASS']",
      "metadata": {
        "trusted": true
      },
      "execution_count": 13,
      "outputs": []
    },
    {
      "cell_type": "code",
      "source": "X_train, X_test, y_train, y_test = train_test_split(X, y, test_size=0.3, random_state=101)",
      "metadata": {
        "trusted": true
      },
      "execution_count": 14,
      "outputs": []
    },
    {
      "cell_type": "markdown",
      "source": "Fitting our model.",
      "metadata": {}
    },
    {
      "cell_type": "code",
      "source": "from sklearn.neighbors import KNeighborsClassifier",
      "metadata": {
        "trusted": true
      },
      "execution_count": 15,
      "outputs": []
    },
    {
      "cell_type": "code",
      "source": "knn = KNeighborsClassifier(n_neighbors=1)",
      "metadata": {
        "trusted": true
      },
      "execution_count": 16,
      "outputs": []
    },
    {
      "cell_type": "code",
      "source": "knn.fit(X_train,y_train)",
      "metadata": {
        "trusted": true
      },
      "execution_count": 17,
      "outputs": [
        {
          "execution_count": 17,
          "output_type": "execute_result",
          "data": {
            "text/plain": "KNeighborsClassifier(n_neighbors=1)"
          },
          "metadata": {}
        }
      ]
    },
    {
      "cell_type": "markdown",
      "source": "## Predictions and Evaluations",
      "metadata": {}
    },
    {
      "cell_type": "code",
      "source": "predictions = knn.predict(X_test)",
      "metadata": {
        "trusted": true
      },
      "execution_count": 18,
      "outputs": []
    },
    {
      "cell_type": "code",
      "source": "from sklearn.metrics import classification_report,confusion_matrix",
      "metadata": {
        "trusted": true
      },
      "execution_count": 19,
      "outputs": []
    },
    {
      "cell_type": "code",
      "source": "print(confusion_matrix(y_test,predictions))",
      "metadata": {
        "trusted": true
      },
      "execution_count": 20,
      "outputs": [
        {
          "name": "stdout",
          "text": "[[109  43]\n [ 41 107]]\n",
          "output_type": "stream"
        }
      ]
    },
    {
      "cell_type": "code",
      "source": "print(classification_report(y_test,predictions))",
      "metadata": {
        "trusted": true
      },
      "execution_count": 21,
      "outputs": [
        {
          "name": "stdout",
          "text": "              precision    recall  f1-score   support\n\n           0       0.73      0.72      0.72       152\n           1       0.71      0.72      0.72       148\n\n    accuracy                           0.72       300\n   macro avg       0.72      0.72      0.72       300\nweighted avg       0.72      0.72      0.72       300\n\n",
          "output_type": "stream"
        }
      ]
    },
    {
      "cell_type": "markdown",
      "source": "## Choosing a K Value",
      "metadata": {}
    },
    {
      "cell_type": "markdown",
      "source": "A major part of building a ML model with KNN, is choosing a K value to improve the performance of our model. Let's go ahead and use the elbow method to do that.\n\nWe will create a loop that trains various KNN models with different k values, then keep track of the error_rate for each of these models with a list.",
      "metadata": {}
    },
    {
      "cell_type": "code",
      "source": "error_rate =[]\nfor i in range(1,50):\n    knn = KNeighborsClassifier(n_neighbors=i)\n    knn.fit(X_train,y_train)\n    predictions = knn.predict(X_test)\n    error_rate.append(np.mean(predictions != y_test))",
      "metadata": {
        "trusted": true
      },
      "execution_count": 22,
      "outputs": []
    },
    {
      "cell_type": "markdown",
      "source": "Now, to make it easier to see what values of K had lower error rates, we'll create a plot using the information from our for loop.",
      "metadata": {}
    },
    {
      "cell_type": "code",
      "source": "plt.figure(figsize=(10,6))\nplt.plot(range(1,50),error_rate,color='blue', linestyle='dashed', marker='o',\n         markerfacecolor='red', markersize=10)\nplt.title('Error Rate vs. K Value')\nplt.xlabel('K')\nplt.ylabel('Error Rate')",
      "metadata": {
        "trusted": true
      },
      "execution_count": 23,
      "outputs": [
        {
          "execution_count": 23,
          "output_type": "execute_result",
          "data": {
            "text/plain": "Text(0, 0.5, 'Error Rate')"
          },
          "metadata": {}
        },
        {
          "output_type": "display_data",
          "data": {
            "text/plain": "<Figure size 720x432 with 1 Axes>",
            "image/png": "[encoded data removed]"
          },
          "metadata": {
            "needs_background": "light"
          }
        }
      ]
    },
    {
      "cell_type": "markdown",
      "source": "Looking at the plot,31 seems to be reasonable value for K. So let's retrain the model using that.",
      "metadata": {}
    },
    {
      "cell_type": "markdown",
      "source": "## Retrain with new K Value",
      "metadata": {}
    },
    {
      "cell_type": "code",
      "source": "knn = KNeighborsClassifier(n_neighbors=31)\nknn.fit(X_train,y_train)\npredictions = knn.predict(X_test)",
      "metadata": {
        "trusted": true
      },
      "execution_count": 24,
      "outputs": []
    },
    {
      "cell_type": "code",
      "source": "print(confusion_matrix(y_test,predictions))\nprint(classification_report(y_test,predictions))",
      "metadata": {
        "trusted": true
      },
      "execution_count": 25,
      "outputs": [
        {
          "name": "stdout",
          "text": "[[123  29]\n [ 19 129]]\n              precision    recall  f1-score   support\n\n           0       0.87      0.81      0.84       152\n           1       0.82      0.87      0.84       148\n\n    accuracy                           0.84       300\n   macro avg       0.84      0.84      0.84       300\nweighted avg       0.84      0.84      0.84       300\n\n",
          "output_type": "stream"
        }
      ]
    },
    {
      "cell_type": "markdown",
      "source": "Hence our model performs better!\n\nThis concludes this project.",
      "metadata": {}
    }
  ]
}