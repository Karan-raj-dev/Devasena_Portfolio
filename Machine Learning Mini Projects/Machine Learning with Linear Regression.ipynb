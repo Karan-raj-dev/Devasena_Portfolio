{
  "metadata": {
    "language_info": {
      "codemirror_mode": {
        "name": "python",
        "version": 3
      },
      "file_extension": ".py",
      "mimetype": "text/x-python",
      "name": "python",
      "nbconvert_exporter": "python",
      "pygments_lexer": "ipython3",
      "version": "3.8"
    },
    "kernelspec": {
      "name": "python",
      "display_name": "Python (Pyodide)",
      "language": "python"
    }
  },
  "nbformat_minor": 4,
  "nbformat": 4,
  "cells": [
    {
      "cell_type": "markdown",
      "source": "# Machine Learning with Linear Regression\n\nIn this project, we have a (fake) dataset from a (fake) Ecommerce company that sells clothing online but also has in-store style and clothing advice sessions. After their sessions, customers can go home and use a mobile app, or the store's website to make purchases.\n\nThe company wants to decide whether to focus their efforts on their mobile app experience or their website, depending on which one of them has the greater impact.\n\nLet's try to answer their question.",
      "metadata": {}
    },
    {
      "cell_type": "code",
      "source": "import pandas as pd\nimport numpy as np\nimport seaborn as sns\nimport matplotlib.pyplot as plt\n%matplotlib inline",
      "metadata": {
        "trusted": true
      },
      "execution_count": 2,
      "outputs": [
        {
          "ename": "<class 'ModuleNotFoundError'>",
          "evalue": "No module named 'seaborn'",
          "traceback": [
            "\u001b[0;31m---------------------------------------------------------------------------\u001b[0m",
            "\u001b[0;31mModuleNotFoundError\u001b[0m                       Traceback (most recent call last)",
            "Input \u001b[0;32mIn [2]\u001b[0m, in \u001b[0;36m<cell line: 3>\u001b[0;34m()\u001b[0m\n\u001b[1;32m      1\u001b[0m \u001b[38;5;28;01mimport\u001b[39;00m \u001b[38;5;21;01mpandas\u001b[39;00m \u001b[38;5;28;01mas\u001b[39;00m \u001b[38;5;21;01mpd\u001b[39;00m\n\u001b[1;32m      2\u001b[0m \u001b[38;5;28;01mimport\u001b[39;00m \u001b[38;5;21;01mnumpy\u001b[39;00m \u001b[38;5;28;01mas\u001b[39;00m \u001b[38;5;21;01mnp\u001b[39;00m\n\u001b[0;32m----> 3\u001b[0m \u001b[38;5;28;01mimport\u001b[39;00m \u001b[38;5;21;01mseaborn\u001b[39;00m \u001b[38;5;28;01mas\u001b[39;00m \u001b[38;5;21;01msns\u001b[39;00m\n\u001b[1;32m      4\u001b[0m \u001b[38;5;28;01mimport\u001b[39;00m \u001b[38;5;21;01mmatplotlib\u001b[39;00m\u001b[38;5;21;01m.\u001b[39;00m\u001b[38;5;21;01mpyplot\u001b[39;00m \u001b[38;5;28;01mas\u001b[39;00m \u001b[38;5;21;01mplt\u001b[39;00m\n\u001b[1;32m      5\u001b[0m get_ipython()\u001b[38;5;241m.\u001b[39mrun_line_magic(\u001b[38;5;124m'\u001b[39m\u001b[38;5;124mmatplotlib\u001b[39m\u001b[38;5;124m'\u001b[39m, \u001b[38;5;124m'\u001b[39m\u001b[38;5;124minline\u001b[39m\u001b[38;5;124m'\u001b[39m)\n",
            "\u001b[0;31mModuleNotFoundError\u001b[0m: No module named 'seaborn'"
          ],
          "output_type": "error"
        }
      ]
    },
    {
      "cell_type": "markdown",
      "source": "## Data\nThe dataset contains customer info, such as Email, Address, and their Avatar. But as this is a regression project, we'll deal with the numerical features we have:\n\n- Avg. Session Length: Average session of in-store style advice sessions.\n- Time on App: Average time spent on App in minutes\n- Time on Website: Average time spent on Website in minutes\n- Length of Membership: How many years the customer has been a member.",
      "metadata": {}
    },
    {
      "cell_type": "code",
      "source": "customers = pd.read_csv('../data/Ecommerce Customers.csv')",
      "metadata": {
        "trusted": true
      },
      "execution_count": 3,
      "outputs": []
    },
    {
      "cell_type": "code",
      "source": "customers.head()",
      "metadata": {
        "trusted": true
      },
      "execution_count": 4,
      "outputs": [
        {
          "execution_count": 4,
          "output_type": "execute_result",
          "data": {
            "text/plain": "                           Email  \\\n0      mstephenson@fernandez.com   \n1              hduke@hotmail.com   \n2               pallen@yahoo.com   \n3        riverarebecca@gmail.com   \n4  mstephens@davidson-herman.com   \n\n                                             Address            Avatar  \\\n0     835 Frank Tunnel\\r\\nWrightmouth, MI 82180-9605            Violet   \n1   4547 Archer Common\\r\\nDiazchester, CA 06566-8576         DarkGreen   \n2  24645 Valerie Unions Suite 582\\r\\nCobbborough,...            Bisque   \n3  1414 David Throughway\\r\\nPort Jason, OH 22070-...       SaddleBrown   \n4  14023 Rodriguez Passage\\r\\nPort Jacobville, PR...  MediumAquaMarine   \n\n   Avg. Session Length  Time on App  Time on Website  Length of Membership  \\\n0            34.497268    12.655651        39.577668              4.082621   \n1            31.926272    11.109461        37.268959              2.664034   \n2            33.000915    11.330278        37.110597              4.104543   \n3            34.305557    13.717514        36.721283              3.120179   \n4            33.330673    12.795189        37.536653              4.446308   \n\n   Yearly Amount Spent  \n0           587.951054  \n1           392.204933  \n2           487.547505  \n3           581.852344  \n4           599.406092  ",
            "text/html": "<div>\n<style scoped>\n    .dataframe tbody tr th:only-of-type {\n        vertical-align: middle;\n    }\n\n    .dataframe tbody tr th {\n        vertical-align: top;\n    }\n\n    .dataframe thead th {\n        text-align: right;\n    }\n</style>\n<table border=\"1\" class=\"dataframe\">\n  <thead>\n    <tr style=\"text-align: right;\">\n      <th></th>\n      <th>Email</th>\n      <th>Address</th>\n      <th>Avatar</th>\n      <th>Avg. Session Length</th>\n      <th>Time on App</th>\n      <th>Time on Website</th>\n      <th>Length of Membership</th>\n      <th>Yearly Amount Spent</th>\n    </tr>\n  </thead>\n  <tbody>\n    <tr>\n      <th>0</th>\n      <td>mstephenson@fernandez.com</td>\n      <td>835 Frank Tunnel\\r\\nWrightmouth, MI 82180-9605</td>\n      <td>Violet</td>\n      <td>34.497268</td>\n      <td>12.655651</td>\n      <td>39.577668</td>\n      <td>4.082621</td>\n      <td>587.951054</td>\n    </tr>\n    <tr>\n      <th>1</th>\n      <td>hduke@hotmail.com</td>\n      <td>4547 Archer Common\\r\\nDiazchester, CA 06566-8576</td>\n      <td>DarkGreen</td>\n      <td>31.926272</td>\n      <td>11.109461</td>\n      <td>37.268959</td>\n      <td>2.664034</td>\n      <td>392.204933</td>\n    </tr>\n    <tr>\n      <th>2</th>\n      <td>pallen@yahoo.com</td>\n      <td>24645 Valerie Unions Suite 582\\r\\nCobbborough,...</td>\n      <td>Bisque</td>\n      <td>33.000915</td>\n      <td>11.330278</td>\n      <td>37.110597</td>\n      <td>4.104543</td>\n      <td>487.547505</td>\n    </tr>\n    <tr>\n      <th>3</th>\n      <td>riverarebecca@gmail.com</td>\n      <td>1414 David Throughway\\r\\nPort Jason, OH 22070-...</td>\n      <td>SaddleBrown</td>\n      <td>34.305557</td>\n      <td>13.717514</td>\n      <td>36.721283</td>\n      <td>3.120179</td>\n      <td>581.852344</td>\n    </tr>\n    <tr>\n      <th>4</th>\n      <td>mstephens@davidson-herman.com</td>\n      <td>14023 Rodriguez Passage\\r\\nPort Jacobville, PR...</td>\n      <td>MediumAquaMarine</td>\n      <td>33.330673</td>\n      <td>12.795189</td>\n      <td>37.536653</td>\n      <td>4.446308</td>\n      <td>599.406092</td>\n    </tr>\n  </tbody>\n</table>\n</div>"
          },
          "metadata": {}
        }
      ]
    },
    {
      "cell_type": "code",
      "source": "customers.describe()",
      "metadata": {},
      "execution_count": null,
      "outputs": []
    },
    {
      "cell_type": "code",
      "source": "customers.info()",
      "metadata": {},
      "execution_count": null,
      "outputs": []
    },
    {
      "cell_type": "markdown",
      "source": "## Exploratory Analysis\nBefore we begin fitting a linear regression model on the data, let's try and eyeball it first.\n\nVisualising the relationship between time spent on Website and yearly spend.",
      "metadata": {}
    },
    {
      "cell_type": "code",
      "source": "sns.jointplot(x=customers['Time on Website'],y=customers['Yearly Amount Spent'])",
      "metadata": {},
      "execution_count": null,
      "outputs": []
    },
    {
      "cell_type": "markdown",
      "source": "Visualising the relationship between time spent on app, and yearly spend.",
      "metadata": {}
    },
    {
      "cell_type": "code",
      "source": "sns.jointplot(x=customers['Time on App'],y=customers['Yearly Amount Spent'])",
      "metadata": {},
      "execution_count": null,
      "outputs": []
    },
    {
      "cell_type": "markdown",
      "source": "Just from the above two visuals, we can conclude that there's a stronger correlation between time spent on app, and the yearly spend, than time spent on the website.\n\nLet's visualise the relationship between the different variables using a seaborn pairplot.",
      "metadata": {}
    },
    {
      "cell_type": "code",
      "source": "sns.pairplot(customers)",
      "metadata": {},
      "execution_count": null,
      "outputs": []
    },
    {
      "cell_type": "code",
      "source": "customers.corr()",
      "metadata": {},
      "execution_count": null,
      "outputs": []
    },
    {
      "cell_type": "markdown",
      "source": "It looks like the length of membership is the feature that's the most (positively) correlated with yearly amount spent. This makes sense, as loyal customers are inclined to spend more.\n\nWe can use seaborn the fit this on a linear plot.",
      "metadata": {}
    },
    {
      "cell_type": "code",
      "source": "sns.lmplot(x='Length of Membership',y='Yearly Amount Spent',data=customers)",
      "metadata": {},
      "execution_count": null,
      "outputs": []
    },
    {
      "cell_type": "markdown",
      "source": "## Splitting the Data\nWe're going to split the data between training and test sets, in a 70:30 ratio.",
      "metadata": {}
    },
    {
      "cell_type": "code",
      "source": "customers.columns",
      "metadata": {},
      "execution_count": null,
      "outputs": []
    },
    {
      "cell_type": "code",
      "source": "#Selecting only the numerical features for training the model.\nX = customers[['Avg. Session Length', 'Time on App','Time on Website', 'Length of Membership']]\ny = customers['Yearly Amount Spent']",
      "metadata": {},
      "execution_count": null,
      "outputs": []
    },
    {
      "cell_type": "code",
      "source": "from sklearn.model_selection import train_test_split",
      "metadata": {},
      "execution_count": null,
      "outputs": []
    },
    {
      "cell_type": "code",
      "source": "X_test,X_train,y_test,y_train = train_test_split(X,y,test_size=0.3,random_state=101)",
      "metadata": {},
      "execution_count": null,
      "outputs": []
    },
    {
      "cell_type": "markdown",
      "source": "## Training the Model",
      "metadata": {}
    },
    {
      "cell_type": "code",
      "source": "from sklearn.linear_model import LinearRegression",
      "metadata": {},
      "execution_count": null,
      "outputs": []
    },
    {
      "cell_type": "code",
      "source": "lm = LinearRegression()",
      "metadata": {},
      "execution_count": null,
      "outputs": []
    },
    {
      "cell_type": "code",
      "source": "lm.fit(X_train,y_train)",
      "metadata": {},
      "execution_count": null,
      "outputs": []
    },
    {
      "cell_type": "markdown",
      "source": "## Making Predictions",
      "metadata": {}
    },
    {
      "cell_type": "code",
      "source": "predictions = lm.predict(X_test) ",
      "metadata": {},
      "execution_count": null,
      "outputs": []
    },
    {
      "cell_type": "markdown",
      "source": "Create a scatterplot of the real test values versus the predicted values.\n\nTo visualise the predictions, let's create a scatterplot between real and predicted values.",
      "metadata": {}
    },
    {
      "cell_type": "code",
      "source": "plt.scatter(y_test,predictions)",
      "metadata": {},
      "execution_count": null,
      "outputs": []
    },
    {
      "cell_type": "markdown",
      "source": "Nice, it looks like our model performs fairly well, as the our predictions and real values fit linearly without much variation.\n\n## Evaluation and Understanding Results\nBut there's a standard way to evaluate linear regression models. Let's calculate the residual sum of squares.",
      "metadata": {}
    },
    {
      "cell_type": "code",
      "source": "from sklearn import metrics",
      "metadata": {},
      "execution_count": null,
      "outputs": []
    },
    {
      "cell_type": "code",
      "source": "print('MAE:',metrics.mean_absolute_error(y_test,predictions))\nprint('MSE:',metrics.mean_squared_error(y_test,predictions))\nprint('RMSE:',np.sqrt(metrics.mean_squared_error(y_test,predictions)))",
      "metadata": {},
      "execution_count": null,
      "outputs": []
    },
    {
      "cell_type": "markdown",
      "source": "Let's try to interpret the coefficients for the variables.",
      "metadata": {}
    },
    {
      "cell_type": "code",
      "source": "cust_coeff = pd.DataFrame(lm.coef_,X.columns)\ncust_coeff.columns = ['Coefficient']\ncust_coeff",
      "metadata": {},
      "execution_count": null,
      "outputs": []
    },
    {
      "cell_type": "markdown",
      "source": "What the coefficients mean, is that, assuming all other features stay fixed,\n\n- 1 unit increase in the Avg. Session Length leads to an approximate \\\\$25 increase in yearly spend.\n- 1 unit increase in the Time on App leads to an approximate \\\\$39 increase in yearly spend.\n- 1 unit increase in the Time on Website leads to an approximate \\\\$0.77 increase in yearly spend.\n- 1 unit increase in the Length of Membership leads to an approximate \\\\$62 increase in yearly spend.",
      "metadata": {}
    },
    {
      "cell_type": "markdown",
      "source": "This concludes our project!",
      "metadata": {}
    }
  ]
}